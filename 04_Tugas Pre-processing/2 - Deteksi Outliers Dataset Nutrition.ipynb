{
 "cells": [
  {
   "cell_type": "markdown",
   "id": "9276b9b4-2a92-4024-9a51-fcbc773495d7",
   "metadata": {},
   "source": [
    "# **Deteksi Outliers**\n",
    "**Oleh:** Benony Gabriel (NIM: 105222002)<br><br>\n",
    "**Dataset:** Nutrition <br>\n",
    "**Deskripsi Dataset:** <br>\n",
    "Dataset ini berisi berbagai informasi tentang resep dari beberapa diet, seperti jenis diet, nama resep, jenis masakan, dan kandungan nutrisi seperti protein, karbohidrat, dan lemak. \n",
    "Dataset ini memiliki 7806 entri (baris) dan terdiri dari 8 kolom dengan rincian sebagai berikut:\n",
    "\n",
    "1. **Diet_type**: Jenis diet yang terkait dengan resep (tipe data: object).\n",
    "2. **Recipe_name**: Nama resep makanan (tipe data: object).\n",
    "3. **Cuisine_type**: Jenis masakan atau asal masakan (tipe data: object).\n",
    "4. **Protein(g)**: Kandungan protein dalam gram untuk setiap resep (tipe data: float64).\n",
    "5. **Carbs(g)**: Kandungan karbohidrat dalam gram untuk setiap resep (tipe data: float64).\n",
    "6. **Fat(g)**: Kandungan lemak dalam gram untuk setiap resep (tipe data: float64).\n",
    "7. **Extraction_day**: Tanggal pengambilan data (tipe data: object).\n",
    "8. **Extraction_time**: Waktu pengambilan data (tipe data: object).\n",
    "\n",
    "Dataset ini memiliki campuran tipe data: numerik (float64) untuk informasi nutrisi (protein, karbohidrat, lemak), dan teks (object) untuk informasi deskriptif seperti nama resep, jenis diet, dan jenis masakan. Tidak ada nilai kosong (non-null) pada setiap kolom."
   ]
  },
  {
   "cell_type": "markdown",
   "id": "b9ba08c4-a1d6-45fb-a6fb-024532bd9df4",
   "metadata": {},
   "source": [
    "# **Langkah-Langkah:**"
   ]
  },
  {
   "cell_type": "markdown",
   "id": "7000cbac-2ac4-4afa-98c6-c50f008e4616",
   "metadata": {},
   "source": [
    "## 1. Mengimpor Library dan Memuat Data\n",
    "Langkah pertama adalah mengimpor Library Python yang relevan, seperti:\n",
    "- **Pandas**: untuk memproses dan menganalisis data.\n",
    "- **Matplotlib** dan **Seaborn**: untuk membuat visualisasi grafik."
   ]
  },
  {
   "cell_type": "code",
   "execution_count": 16,
   "id": "9ae8145a-8110-44cc-af88-100f1373e67a",
   "metadata": {},
   "outputs": [],
   "source": [
    "# Import Library\n",
    "import pandas as pd\n",
    "import matplotlib.pyplot as plt\n",
    "import seaborn as sns\n",
    "from scipy import stats\n",
    "\n",
    "# Untuk menampilkan semua kolom sampai 200\n",
    "pd.set_option('display.max_columns', 200)\n",
    "\n",
    "# Mengatur gaya plot untuk visualisasi\n",
    "plt.style.use('ggplot')\n",
    "\n",
    "# Memuat dataset\n",
    "file_path = 'datasets/All_Diets.csv'\n",
    "df = pd.read_csv(file_path)"
   ]
  },
  {
   "cell_type": "markdown",
   "id": "f44659b2-ff17-4ab2-be85-1dbc3a54ca32",
   "metadata": {},
   "source": [
    "## 2. Data Understanding\n",
    "Melakukan pemeriksaan awal:\n",
    "- **`df.shape`**: Menampilkan jumlah kolom dan baris.\n",
    "- **`df.info()`**: Menampilkan informasi tentang jumlah kolom, baris, tipe data, dan apakah ada nilai yang hilang.\n",
    "- **`df.head()`**: Menampilkan beberapa baris pertama untuk melihat bagaimana data tersusun.\n",
    "- **`df.dtypes`**: Menunjukkan tipe data (data types) dari setiap kolom dalam sebuah DataFrame Pandas.\n",
    "- **`df.describe()`**: Adalah metode Pandas yang memberikan statistik deskriptif dari kolom numerik dan, dengan beberapa parameter tambahan, juga bisa memberikan statistik deskriptif dari kolom kategorikal."
   ]
  },
  {
   "cell_type": "code",
   "execution_count": 5,
   "id": "3267a0a3-c38e-4703-a6f1-3de6e32a19d3",
   "metadata": {},
   "outputs": [
    {
     "data": {
      "text/plain": [
       "(7806, 8)"
      ]
     },
     "execution_count": 5,
     "metadata": {},
     "output_type": "execute_result"
    }
   ],
   "source": [
    "df.shape"
   ]
  },
  {
   "cell_type": "markdown",
   "id": "ddacaa92-9dd8-4976-a637-113d047b94d4",
   "metadata": {},
   "source": [
    "Terlihat bahwa dataset ini memiliki 7806 baris dengan 8 kolom"
   ]
  },
  {
   "cell_type": "code",
   "execution_count": 8,
   "id": "03043633-a92f-4c7f-b186-ac0d3ebfc1e4",
   "metadata": {},
   "outputs": [
    {
     "name": "stdout",
     "output_type": "stream",
     "text": [
      "<class 'pandas.core.frame.DataFrame'>\n",
      "RangeIndex: 7806 entries, 0 to 7805\n",
      "Data columns (total 8 columns):\n",
      " #   Column           Non-Null Count  Dtype  \n",
      "---  ------           --------------  -----  \n",
      " 0   Diet_type        7806 non-null   object \n",
      " 1   Recipe_name      7806 non-null   object \n",
      " 2   Cuisine_type     7806 non-null   object \n",
      " 3   Protein(g)       7806 non-null   float64\n",
      " 4   Carbs(g)         7806 non-null   float64\n",
      " 5   Fat(g)           7806 non-null   float64\n",
      " 6   Extraction_day   7806 non-null   object \n",
      " 7   Extraction_time  7806 non-null   object \n",
      "dtypes: float64(3), object(5)\n",
      "memory usage: 488.0+ KB\n"
     ]
    }
   ],
   "source": [
    "df.info()"
   ]
  },
  {
   "cell_type": "markdown",
   "id": "77221244-9e4e-4d37-97c2-a2d920e28cff",
   "metadata": {},
   "source": [
    "Output ini memberikan informasi bahwa semua kolom dalam dataframe ini tidak memiliki nilai kosong (non-null), informasi terkait tipe data kolom, serta jumlah baris dan ukuran memori yang digunakan oleh dataframe."
   ]
  },
  {
   "cell_type": "code",
   "execution_count": 9,
   "id": "1c3aa56d-9cf6-47f2-890e-d9ee00c9bdda",
   "metadata": {},
   "outputs": [
    {
     "data": {
      "text/html": [
       "<div>\n",
       "<style scoped>\n",
       "    .dataframe tbody tr th:only-of-type {\n",
       "        vertical-align: middle;\n",
       "    }\n",
       "\n",
       "    .dataframe tbody tr th {\n",
       "        vertical-align: top;\n",
       "    }\n",
       "\n",
       "    .dataframe thead th {\n",
       "        text-align: right;\n",
       "    }\n",
       "</style>\n",
       "<table border=\"1\" class=\"dataframe\">\n",
       "  <thead>\n",
       "    <tr style=\"text-align: right;\">\n",
       "      <th></th>\n",
       "      <th>Diet_type</th>\n",
       "      <th>Recipe_name</th>\n",
       "      <th>Cuisine_type</th>\n",
       "      <th>Protein(g)</th>\n",
       "      <th>Carbs(g)</th>\n",
       "      <th>Fat(g)</th>\n",
       "      <th>Extraction_day</th>\n",
       "      <th>Extraction_time</th>\n",
       "    </tr>\n",
       "  </thead>\n",
       "  <tbody>\n",
       "    <tr>\n",
       "      <th>0</th>\n",
       "      <td>paleo</td>\n",
       "      <td>Bone Broth From 'Nom Nom Paleo'</td>\n",
       "      <td>american</td>\n",
       "      <td>5.22</td>\n",
       "      <td>1.29</td>\n",
       "      <td>3.20</td>\n",
       "      <td>2022-10-16</td>\n",
       "      <td>17:20:09</td>\n",
       "    </tr>\n",
       "    <tr>\n",
       "      <th>1</th>\n",
       "      <td>paleo</td>\n",
       "      <td>Paleo Effect Asian-Glazed Pork Sides, A Sweet ...</td>\n",
       "      <td>south east asian</td>\n",
       "      <td>181.55</td>\n",
       "      <td>28.62</td>\n",
       "      <td>146.14</td>\n",
       "      <td>2022-10-16</td>\n",
       "      <td>17:20:09</td>\n",
       "    </tr>\n",
       "    <tr>\n",
       "      <th>2</th>\n",
       "      <td>paleo</td>\n",
       "      <td>Paleo Pumpkin Pie</td>\n",
       "      <td>american</td>\n",
       "      <td>30.91</td>\n",
       "      <td>302.59</td>\n",
       "      <td>96.76</td>\n",
       "      <td>2022-10-16</td>\n",
       "      <td>17:20:09</td>\n",
       "    </tr>\n",
       "    <tr>\n",
       "      <th>3</th>\n",
       "      <td>paleo</td>\n",
       "      <td>Strawberry Guacamole recipes</td>\n",
       "      <td>mexican</td>\n",
       "      <td>9.62</td>\n",
       "      <td>75.78</td>\n",
       "      <td>59.89</td>\n",
       "      <td>2022-10-16</td>\n",
       "      <td>17:20:09</td>\n",
       "    </tr>\n",
       "    <tr>\n",
       "      <th>4</th>\n",
       "      <td>paleo</td>\n",
       "      <td>Asian Cauliflower Fried \"Rice\" From 'Nom Nom P...</td>\n",
       "      <td>chinese</td>\n",
       "      <td>39.84</td>\n",
       "      <td>54.08</td>\n",
       "      <td>71.55</td>\n",
       "      <td>2022-10-16</td>\n",
       "      <td>17:20:09</td>\n",
       "    </tr>\n",
       "  </tbody>\n",
       "</table>\n",
       "</div>"
      ],
      "text/plain": [
       "  Diet_type                                        Recipe_name  \\\n",
       "0     paleo                    Bone Broth From 'Nom Nom Paleo'   \n",
       "1     paleo  Paleo Effect Asian-Glazed Pork Sides, A Sweet ...   \n",
       "2     paleo                                  Paleo Pumpkin Pie   \n",
       "3     paleo                       Strawberry Guacamole recipes   \n",
       "4     paleo  Asian Cauliflower Fried \"Rice\" From 'Nom Nom P...   \n",
       "\n",
       "       Cuisine_type  Protein(g)  Carbs(g)  Fat(g) Extraction_day  \\\n",
       "0          american        5.22      1.29    3.20     2022-10-16   \n",
       "1  south east asian      181.55     28.62  146.14     2022-10-16   \n",
       "2          american       30.91    302.59   96.76     2022-10-16   \n",
       "3           mexican        9.62     75.78   59.89     2022-10-16   \n",
       "4           chinese       39.84     54.08   71.55     2022-10-16   \n",
       "\n",
       "  Extraction_time  \n",
       "0        17:20:09  \n",
       "1        17:20:09  \n",
       "2        17:20:09  \n",
       "3        17:20:09  \n",
       "4        17:20:09  "
      ]
     },
     "execution_count": 9,
     "metadata": {},
     "output_type": "execute_result"
    }
   ],
   "source": [
    "df.head()"
   ]
  },
  {
   "cell_type": "code",
   "execution_count": 12,
   "id": "1c1223f0-52b1-4920-b9f8-fa3a95018cb5",
   "metadata": {},
   "outputs": [
    {
     "data": {
      "text/plain": [
       "Diet_type           object\n",
       "Recipe_name         object\n",
       "Cuisine_type        object\n",
       "Protein(g)         float64\n",
       "Carbs(g)           float64\n",
       "Fat(g)             float64\n",
       "Extraction_day      object\n",
       "Extraction_time     object\n",
       "dtype: object"
      ]
     },
     "execution_count": 12,
     "metadata": {},
     "output_type": "execute_result"
    }
   ],
   "source": [
    "df.dtypes"
   ]
  },
  {
   "cell_type": "code",
   "execution_count": 14,
   "id": "e51b2e82-9ec6-4cae-a53e-780eb081f8f4",
   "metadata": {},
   "outputs": [
    {
     "data": {
      "text/html": [
       "<div>\n",
       "<style scoped>\n",
       "    .dataframe tbody tr th:only-of-type {\n",
       "        vertical-align: middle;\n",
       "    }\n",
       "\n",
       "    .dataframe tbody tr th {\n",
       "        vertical-align: top;\n",
       "    }\n",
       "\n",
       "    .dataframe thead th {\n",
       "        text-align: right;\n",
       "    }\n",
       "</style>\n",
       "<table border=\"1\" class=\"dataframe\">\n",
       "  <thead>\n",
       "    <tr style=\"text-align: right;\">\n",
       "      <th></th>\n",
       "      <th>Protein(g)</th>\n",
       "      <th>Carbs(g)</th>\n",
       "      <th>Fat(g)</th>\n",
       "    </tr>\n",
       "  </thead>\n",
       "  <tbody>\n",
       "    <tr>\n",
       "      <th>count</th>\n",
       "      <td>7806.000000</td>\n",
       "      <td>7806.000000</td>\n",
       "      <td>7806.000000</td>\n",
       "    </tr>\n",
       "    <tr>\n",
       "      <th>mean</th>\n",
       "      <td>83.231498</td>\n",
       "      <td>152.123189</td>\n",
       "      <td>117.328542</td>\n",
       "    </tr>\n",
       "    <tr>\n",
       "      <th>std</th>\n",
       "      <td>89.797282</td>\n",
       "      <td>185.907322</td>\n",
       "      <td>122.098117</td>\n",
       "    </tr>\n",
       "    <tr>\n",
       "      <th>min</th>\n",
       "      <td>0.000000</td>\n",
       "      <td>0.060000</td>\n",
       "      <td>0.000000</td>\n",
       "    </tr>\n",
       "    <tr>\n",
       "      <th>25%</th>\n",
       "      <td>24.415000</td>\n",
       "      <td>36.162500</td>\n",
       "      <td>41.067500</td>\n",
       "    </tr>\n",
       "    <tr>\n",
       "      <th>50%</th>\n",
       "      <td>56.280000</td>\n",
       "      <td>93.415000</td>\n",
       "      <td>84.865000</td>\n",
       "    </tr>\n",
       "    <tr>\n",
       "      <th>75%</th>\n",
       "      <td>112.357500</td>\n",
       "      <td>205.915000</td>\n",
       "      <td>158.290000</td>\n",
       "    </tr>\n",
       "    <tr>\n",
       "      <th>max</th>\n",
       "      <td>1273.610000</td>\n",
       "      <td>3405.550000</td>\n",
       "      <td>1930.240000</td>\n",
       "    </tr>\n",
       "  </tbody>\n",
       "</table>\n",
       "</div>"
      ],
      "text/plain": [
       "        Protein(g)     Carbs(g)       Fat(g)\n",
       "count  7806.000000  7806.000000  7806.000000\n",
       "mean     83.231498   152.123189   117.328542\n",
       "std      89.797282   185.907322   122.098117\n",
       "min       0.000000     0.060000     0.000000\n",
       "25%      24.415000    36.162500    41.067500\n",
       "50%      56.280000    93.415000    84.865000\n",
       "75%     112.357500   205.915000   158.290000\n",
       "max    1273.610000  3405.550000  1930.240000"
      ]
     },
     "execution_count": 14,
     "metadata": {},
     "output_type": "execute_result"
    }
   ],
   "source": [
    "df.describe()"
   ]
  },
  {
   "cell_type": "markdown",
   "id": "becd5abf-a678-4e4d-91ce-676ecdf894ba",
   "metadata": {},
   "source": [
    "## 3. Deteksi Outliers"
   ]
  },
  {
   "cell_type": "markdown",
   "id": "0d887036-d953-4a44-b6eb-36043ac6b4ce",
   "metadata": {},
   "source": [
    "Untuk mendeteksi outlier, saya akan menggunakan dua metode:\n",
    "1. **Z-Score**: Metode ini mengukur seberapa jauh data dari rata-rata dalam satuan standar deviasi.\n",
    "2. **Interquartile Range (IQR)**: IQR adalah selisih antara kuartil ketiga (Q3) dan kuartil pertama (Q1). Nilai-nilai yang berada di luar rentang Q1 - 1.5*IQR hingga Q3 + 1.5*IQR dianggap outlier.\n"
   ]
  },
  {
   "cell_type": "markdown",
   "id": "2deba367-3b38-40f9-b0e1-427254859db6",
   "metadata": {},
   "source": [
    "Saya akan mulai dengan mendeteksi outlier untuk kolom \"Protein(g)\", \"Carbs(g)\", dan \"Fat(g)\" menggunakan kedua metode ini.\n"
   ]
  },
  {
   "cell_type": "markdown",
   "id": "f2341550-a210-4ae6-8cd2-ac76b68d471c",
   "metadata": {},
   "source": [
    "### Tahap 1: Deteksi Outlier menggunakan Z-Score\n",
    "- **Z-Score**: Nilai Z-Score mengukur seberapa jauh suatu data dari rata-rata, dinormalisasi dengan standar deviasi. Jika Z-Score lebih besar dari 3 atau kurang dari -3, nilai tersebut dianggap sebagai outlier.\n",
    "<br>\n",
    "Saya akan menghitung Z-Score untuk setiap nilai dan menandai nilai yang memiliki Z-Score lebih besar dari 3 atau kurang dari -3 sebagai outlier."
   ]
  },
  {
   "cell_type": "code",
   "execution_count": 20,
   "id": "48a09aea-7894-40fd-b1d3-dbdc4e7eb1cb",
   "metadata": {},
   "outputs": [],
   "source": [
    "# Mendefinisikan fungsi untuk mendeteksi outliers menggunakan Z-Score\n",
    "def detect_outliers_zscore(data, threshold=3):\n",
    "    z_scores = stats.zscore(data)\n",
    "    return abs(z_scores) > threshold"
   ]
  },
  {
   "cell_type": "code",
   "execution_count": 23,
   "id": "ccc35062-6c70-4c7b-8c20-7dbb4095913e",
   "metadata": {},
   "outputs": [],
   "source": [
    "# Menerapkan metode Z-Score pada Protein, Carbs, and Fat\n",
    "outliers_zscore = pd.DataFrame({\n",
    "    'Protein_outlier_zscore': detect_outliers_zscore(df['Protein(g)']),\n",
    "    'Carbs_outlier_zscore': detect_outliers_zscore(df['Carbs(g)']),\n",
    "    'Fat_outlier_zscore': detect_outliers_zscore(df['Fat(g)'])\n",
    "})"
   ]
  },
  {
   "cell_type": "markdown",
   "id": "ff23e0c9-deea-4faa-ac2c-065b92fe5644",
   "metadata": {},
   "source": [
    "### Tahap 2: Deteksi Outlier menggunakan IQR\n",
    "- **IQR**: Interquartile Range (IQR) melihat distribusi data antara kuartil pertama (Q1) dan kuartil ketiga (Q3). Nilai yang berada di luar rentang Q1 - 1.5*IQR dan Q3 + 1.5*IQR dianggap sebagai outlier. <br>\n",
    "Saya akan menghitung Q1, Q3, dan IQR untuk setiap kolom, lalu menentukan batas untuk mendeteksi outlier.\n"
   ]
  },
  {
   "cell_type": "code",
   "execution_count": 24,
   "id": "a2ecde2b-452a-4a1c-8eae-3631b446137c",
   "metadata": {},
   "outputs": [],
   "source": [
    "# Mendefinisikan fungsi untuk mendeteksi outliers menggunakan metode IQR\n",
    "def detect_outliers_iqr(data):\n",
    "    Q1 = data.quantile(0.25)\n",
    "    Q3 = data.quantile(0.75)\n",
    "    IQR = Q3 - Q1\n",
    "    lower_bound = Q1 - 1.5 * IQR\n",
    "    upper_bound = Q3 + 1.5 * IQR\n",
    "    return (data < lower_bound) | (data > upper_bound)"
   ]
  },
  {
   "cell_type": "code",
   "execution_count": 26,
   "id": "7d98878f-22e2-47fc-bedb-8156d342ae97",
   "metadata": {},
   "outputs": [],
   "source": [
    "# Menerapkan metode IQR pada Protein, Carbs, and Fat\n",
    "outliers_iqr = pd.DataFrame({\n",
    "    'Protein_outlier_iqr': detect_outliers_iqr(df['Protein(g)']),\n",
    "    'Carbs_outlier_iqr': detect_outliers_iqr(df['Carbs(g)']),\n",
    "    'Fat_outlier_iqr': detect_outliers_iqr(df['Fat(g)'])\n",
    "})"
   ]
  },
  {
   "cell_type": "markdown",
   "id": "53c688e8-3ad5-40f9-8e92-c45f61ba16ac",
   "metadata": {},
   "source": [
    "### Tahap 3: Hitung jumlah outliers yang terdeteksi oleh setiap metode"
   ]
  },
  {
   "cell_type": "code",
   "execution_count": 27,
   "id": "a9883091-4983-4d33-8ce5-e94212320fb5",
   "metadata": {},
   "outputs": [
    {
     "data": {
      "text/plain": [
       "(Protein_outlier_zscore    119\n",
       " Carbs_outlier_zscore      128\n",
       " Fat_outlier_zscore        113\n",
       " dtype: int64,\n",
       " Protein_outlier_iqr    440\n",
       " Carbs_outlier_iqr      410\n",
       " Fat_outlier_iqr        359\n",
       " dtype: int64)"
      ]
     },
     "execution_count": 27,
     "metadata": {},
     "output_type": "execute_result"
    }
   ],
   "source": [
    "zscore_outlier_counts = outliers_zscore.sum()\n",
    "iqr_outlier_counts = outliers_iqr.sum()\n",
    "\n",
    "zscore_outlier_counts, iqr_outlier_counts"
   ]
  },
  {
   "cell_type": "markdown",
   "id": "30e2eb6a-a527-4f5e-9189-7611cd661e57",
   "metadata": {},
   "source": [
    "### Hasil Deteksi Outlier\n",
    "\n",
    "1. **Z-Score Method**:\n",
    "   - **Protein**: 119 outlier terdeteksi.\n",
    "   - **Carbs**: 128 outlier terdeteksi.\n",
    "   - **Fat**: 113 outlier terdeteksi.\n",
    "\n",
    "2. **IQR Method**:\n",
    "   - **Protein**: 440 outlier terdeteksi.\n",
    "   - **Carbs**: 410 outlier terdeteksi.\n",
    "   - **Fat**: 359 outlier terdeteksi.\n"
   ]
  },
  {
   "cell_type": "markdown",
   "id": "5bfc5904-009d-482b-8eec-36e3525d6ae4",
   "metadata": {},
   "source": [
    "### Visualisasi Outliers"
   ]
  },
  {
   "cell_type": "code",
   "execution_count": 29,
   "id": "c69f9c55-91d7-4cfb-b83f-97bf8e42f0cd",
   "metadata": {},
   "outputs": [
    {
     "data": {
      "image/png": "[encoded data removed]",
      "text/plain": [
       "<Figure size 1500x500 with 3 Axes>"
      ]
     },
     "metadata": {},
     "output_type": "display_data"
    }
   ],
   "source": [
    "# Set up the figure\n",
    "plt.figure(figsize=(15, 5))\n",
    "\n",
    "# Create a boxplot for Protein\n",
    "plt.subplot(1, 3, 1)\n",
    "sns.boxplot(y=df['Protein(g)'])\n",
    "plt.title('Boxplot of Protein(g)')\n",
    "\n",
    "# Create a boxplot for Carbs\n",
    "plt.subplot(1, 3, 2)\n",
    "sns.boxplot(y=df['Carbs(g)'])\n",
    "plt.title('Boxplot of Carbs(g)')\n",
    "\n",
    "# Create a boxplot for Fat\n",
    "plt.subplot(1, 3, 3)\n",
    "sns.boxplot(y=df['Fat(g)'])\n",
    "plt.title('Boxplot of Fat(g)')\n",
    "\n",
    "# Show the plot\n",
    "plt.tight_layout()\n",
    "plt.show()"
   ]
  },
  {
   "cell_type": "markdown",
   "id": "09531f82-bde8-404b-8f96-fbe0ec0b2239",
   "metadata": {},
   "source": [
    "- **Boxplot**: Setiap boxplot menampilkan distribusi data dalam setiap kolom (protein, karbohidrat, dan lemak). Outlier akan terlihat sebagai titik yang berada jauh di luar whisker (garis yang meluas dari box).\n",
    "- **Subplot**: Kode ini menggunakan 3 subplot untuk menampilkan boxplot masing-masing kolom pada satu gambar.\n"
   ]
  },
  {
   "cell_type": "markdown",
   "id": "1b184567-9613-457d-8ab6-80906803b3fc",
   "metadata": {},
   "source": [
    "## 4. Kesimpulan:\n",
    "Metode IQR mendeteksi lebih banyak outlier dibandingkan metode Z-Score, karena IQR lebih sensitif terhadap distribusi data yang memiliki range nilai yang luas. Pada dataset ini, ada banyak outlier terutama pada kolom protein, karbohidrat, dan lemak, yang menunjukkan beberapa resep memiliki kandungan nutrisi yang jauh lebih tinggi atau rendah dibandingkan rata-rata.\n"
   ]
  }
 ],
 "metadata": {
  "kernelspec": {
   "display_name": "Python 3 (ipykernel)",
   "language": "python",
   "name": "python3"
  },
  "language_info": {
   "codemirror_mode": {
    "name": "ipython",
    "version": 3
   },
   "file_extension": ".py",
   "mimetype": "text/x-python",
   "name": "python",
   "nbconvert_exporter": "python",
   "pygments_lexer": "ipython3",
   "version": "3.12.6"
  }
 },
 "nbformat": 4,
 "nbformat_minor": 5
}
