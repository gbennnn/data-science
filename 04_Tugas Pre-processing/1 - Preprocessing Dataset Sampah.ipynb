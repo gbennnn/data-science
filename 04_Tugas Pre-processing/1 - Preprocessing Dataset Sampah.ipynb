{
 "cells": [
  {
   "cell_type": "markdown",
   "id": "d55ac6ff-e110-4329-a3a0-faabe61cb828",
   "metadata": {},
   "source": [
    "# **Preprocessing Data**\n",
    "**Oleh:** Benony Gabriel (NIM: 105222002)<br><br>\n",
    "**Preprocessing yang dilakukan disini antara lain:**\n",
    "- Mengatasi Noise (membuat data tidak konsisten menjadi konsisten)\n",
    "- Mengisi Missing Values<br><br>\n",
    "\n",
    "**Dataset:** Volume Pengangkutan Sampah <br>\n",
    "**Deskripsi Dataset:** <br>\n",
    "Berikut ini adalah penjelasan singkat terkait variabel data / kolom dari dataset sampah:  \n",
    "1. bulan : Bulan  \n",
    "2. titik_lokasi : Titik Lokasi Penampungan Sampah  \n",
    "3. kecamatan : Kecamatan dimana titik lokasi penampungan sampah berada  \n",
    "4. wilayah : Wilayah dimana titik lokasi penampungan sampah berada  \n",
    "5. panjang/luas : Panjang atau luas area penanganan sampah  \n",
    "6. satuan : Satuan Panjang atau Luas  \n",
    "7. tanggal : Tanggal  \n",
    "8. volume_sampah_perhari (m3) : Volume Sampah per Hari (dengan satuan m3)  "
   ]
  },
  {
   "cell_type": "markdown",
   "id": "bcbbebc3-6f1a-4d90-8d12-a66c54f347f6",
   "metadata": {},
   "source": [
    "# **Langkah-Langkah:**"
   ]
  },
  {
   "cell_type": "markdown",
   "id": "ec5b95c3-f5e0-4149-90b0-ecebbe967be2",
   "metadata": {},
   "source": [
    "### 1. Mengimpor Library dan Memuat Data\n",
    "Langkah pertama adalah mengimpor Library Python yang relevan, seperti:\n",
    "- **Pandas**: untuk memproses dan menganalisis data.\n",
    "- **Matplotlib** dan **Seaborn**: untuk membuat visualisasi grafik."
   ]
  },
  {
   "cell_type": "code",
   "execution_count": 1,
   "id": "9c25fe52-d501-4a93-bea9-7ecd27109c0d",
   "metadata": {},
   "outputs": [],
   "source": [
    "# Impor Library\n",
    "import pandas as pd\n",
    "import matplotlib.pyplot as plt\n",
    "import seaborn as sns\n",
    "from scipy import stats\n",
    "import numpy as np\n",
    "\n",
    "#Untuk menampilkan semua kolom sampai 200\n",
    "pd.set_option('display.max_columns', 200) \n",
    "\n",
    "# Mengatur gaya plot untuk visualisasi yang konsisten\n",
    "plt.style.use('ggplot')"
   ]
  },
  {
   "cell_type": "code",
   "execution_count": 2,
   "id": "4854145e-9582-4a61-a234-76c011cd8dcf",
   "metadata": {},
   "outputs": [],
   "source": [
    "# Memuat dataset\n",
    "file_path = 'datasets/volume-pengangkutan-sampah.csv'\n",
    "df = pd.read_csv(file_path)"
   ]
  },
  {
   "cell_type": "markdown",
   "id": "52495c1e-0a3d-47f3-9c63-232d711fbdeb",
   "metadata": {},
   "source": [
    "### 2. Data Understanding\n",
    "Melakukan pemeriksaan awal:\n",
    "- **`df.shape`**: Menampilkan jumlah kolom dan baris.\n",
    "- **`df.info()`**: Menampilkan informasi tentang jumlah kolom, baris, tipe data, dan apakah ada nilai yang hilang.\n",
    "- **`df.head()`**: Menampilkan beberapa baris pertama untuk melihat bagaimana data tersusun.\n",
    "- **`df.dtypes`**: Menunjukkan tipe data (data types) dari setiap kolom dalam sebuah DataFrame Pandas.\n",
    "- **`df.describe()`**: Adalah metode Pandas yang memberikan statistik deskriptif dari kolom numerik dan, dengan beberapa parameter tambahan, juga bisa memberikan statistik deskriptif dari kolom kategorikal."
   ]
  },
  {
   "cell_type": "code",
   "execution_count": 3,
   "id": "349810ff-b643-4147-ba7f-ee7770b54baa",
   "metadata": {},
   "outputs": [
    {
     "data": {
      "text/plain": [
       "(54343, 8)"
      ]
     },
     "execution_count": 3,
     "metadata": {},
     "output_type": "execute_result"
    }
   ],
   "source": [
    "# Melihat banyak baris dan kolom dalam dataset\n",
    "df.shape"
   ]
  },
  {
   "cell_type": "code",
   "execution_count": 4,
   "id": "30ded8da-307a-45a5-abd8-07cf5c4e7b5f",
   "metadata": {},
   "outputs": [
    {
     "name": "stdout",
     "output_type": "stream",
     "text": [
      "<class 'pandas.core.frame.DataFrame'>\n",
      "RangeIndex: 54343 entries, 0 to 54342\n",
      "Data columns (total 8 columns):\n",
      " #   Column                     Non-Null Count  Dtype \n",
      "---  ------                     --------------  ----- \n",
      " 0   bulan                      54343 non-null  int64 \n",
      " 1    titik_lokasi              54343 non-null  object\n",
      " 2    kecamatan                 54343 non-null  object\n",
      " 3    wilayah                   54343 non-null  object\n",
      " 4    panjang/luas              53475 non-null  object\n",
      " 5   satuan_panjang/luas        32388 non-null  object\n",
      " 6   tanggal                    54343 non-null  int64 \n",
      " 7   volume_sampah_perhari(m3)  54343 non-null  object\n",
      "dtypes: int64(2), object(6)\n",
      "memory usage: 3.3+ MB\n"
     ]
    }
   ],
   "source": [
    "df.info()"
   ]
  },
  {
   "cell_type": "code",
   "execution_count": 5,
   "id": "40cc4e77-2b57-4280-b1ae-bab9ec72a387",
   "metadata": {},
   "outputs": [
    {
     "data": {
      "text/html": [
       "<div>\n",
       "<style scoped>\n",
       "    .dataframe tbody tr th:only-of-type {\n",
       "        vertical-align: middle;\n",
       "    }\n",
       "\n",
       "    .dataframe tbody tr th {\n",
       "        vertical-align: top;\n",
       "    }\n",
       "\n",
       "    .dataframe thead th {\n",
       "        text-align: right;\n",
       "    }\n",
       "</style>\n",
       "<table border=\"1\" class=\"dataframe\">\n",
       "  <thead>\n",
       "    <tr style=\"text-align: right;\">\n",
       "      <th></th>\n",
       "      <th>bulan</th>\n",
       "      <th>titik_lokasi</th>\n",
       "      <th>kecamatan</th>\n",
       "      <th>wilayah</th>\n",
       "      <th>panjang/luas</th>\n",
       "      <th>satuan_panjang/luas</th>\n",
       "      <th>tanggal</th>\n",
       "      <th>volume_sampah_perhari(m3)</th>\n",
       "    </tr>\n",
       "  </thead>\n",
       "  <tbody>\n",
       "    <tr>\n",
       "      <th>0</th>\n",
       "      <td>1</td>\n",
       "      <td>Kali / Sungai Sentiong - Ruas Dewi Sri</td>\n",
       "      <td>Johar Baru</td>\n",
       "      <td>Jakarta Pusat</td>\n",
       "      <td>464</td>\n",
       "      <td>m</td>\n",
       "      <td>1</td>\n",
       "      <td>4</td>\n",
       "    </tr>\n",
       "    <tr>\n",
       "      <th>1</th>\n",
       "      <td>1</td>\n",
       "      <td>Kali / Sungai Sentiong - Ruas Abapon</td>\n",
       "      <td>Johar Baru</td>\n",
       "      <td>Jakarta Pusat</td>\n",
       "      <td>464</td>\n",
       "      <td>m</td>\n",
       "      <td>1</td>\n",
       "      <td>4</td>\n",
       "    </tr>\n",
       "    <tr>\n",
       "      <th>2</th>\n",
       "      <td>1</td>\n",
       "      <td>Kali / Sungai Sentiong - JL Tanah Tinggi</td>\n",
       "      <td>Johar Baru</td>\n",
       "      <td>Jakarta Pusat</td>\n",
       "      <td>464</td>\n",
       "      <td>m</td>\n",
       "      <td>1</td>\n",
       "      <td>4</td>\n",
       "    </tr>\n",
       "    <tr>\n",
       "      <th>3</th>\n",
       "      <td>1</td>\n",
       "      <td>Kali / Sungai Sentiong Jl.Galur - Pombensin</td>\n",
       "      <td>Johar Baru</td>\n",
       "      <td>Jakarta Pusat</td>\n",
       "      <td>606</td>\n",
       "      <td>m</td>\n",
       "      <td>1</td>\n",
       "      <td>4</td>\n",
       "    </tr>\n",
       "    <tr>\n",
       "      <th>4</th>\n",
       "      <td>1</td>\n",
       "      <td>Kali / Sungai Sentiong - Jl. Timah</td>\n",
       "      <td>Johar Baru</td>\n",
       "      <td>Jakarta Pusat</td>\n",
       "      <td>310</td>\n",
       "      <td>m</td>\n",
       "      <td>1</td>\n",
       "      <td>7</td>\n",
       "    </tr>\n",
       "    <tr>\n",
       "      <th>5</th>\n",
       "      <td>1</td>\n",
       "      <td>PHB Kawi Kawi Bawah</td>\n",
       "      <td>Johar Baru</td>\n",
       "      <td>Jakarta Pusat</td>\n",
       "      <td>620</td>\n",
       "      <td>m</td>\n",
       "      <td>1</td>\n",
       "      <td>1</td>\n",
       "    </tr>\n",
       "    <tr>\n",
       "      <th>6</th>\n",
       "      <td>1</td>\n",
       "      <td>PHB Kayu Awet</td>\n",
       "      <td>Johar Baru</td>\n",
       "      <td>Jakarta Pusat</td>\n",
       "      <td>300</td>\n",
       "      <td>m</td>\n",
       "      <td>1</td>\n",
       "      <td>12</td>\n",
       "    </tr>\n",
       "    <tr>\n",
       "      <th>7</th>\n",
       "      <td>1</td>\n",
       "      <td>PHB Pulo Gundul</td>\n",
       "      <td>Johar Baru</td>\n",
       "      <td>Jakarta Pusat</td>\n",
       "      <td>500</td>\n",
       "      <td>m</td>\n",
       "      <td>1</td>\n",
       "      <td>1</td>\n",
       "    </tr>\n",
       "    <tr>\n",
       "      <th>8</th>\n",
       "      <td>1</td>\n",
       "      <td>PHB Tanah Tinggi XII</td>\n",
       "      <td>Johar Baru</td>\n",
       "      <td>Jakarta Pusat</td>\n",
       "      <td>500</td>\n",
       "      <td>m</td>\n",
       "      <td>1</td>\n",
       "      <td>1</td>\n",
       "    </tr>\n",
       "    <tr>\n",
       "      <th>9</th>\n",
       "      <td>1</td>\n",
       "      <td>PHB Bala Dewa</td>\n",
       "      <td>Johar Baru</td>\n",
       "      <td>Jakarta Pusat</td>\n",
       "      <td>330</td>\n",
       "      <td>m</td>\n",
       "      <td>1</td>\n",
       "      <td>1</td>\n",
       "    </tr>\n",
       "    <tr>\n",
       "      <th>10</th>\n",
       "      <td>1</td>\n",
       "      <td>PHB Percetakan Negara II</td>\n",
       "      <td>Johar Baru</td>\n",
       "      <td>Jakarta Pusat</td>\n",
       "      <td>500</td>\n",
       "      <td>m</td>\n",
       "      <td>1</td>\n",
       "      <td>12</td>\n",
       "    </tr>\n",
       "    <tr>\n",
       "      <th>11</th>\n",
       "      <td>1</td>\n",
       "      <td>PHB Johar Baru V</td>\n",
       "      <td>Johar Baru</td>\n",
       "      <td>Jakarta Pusat</td>\n",
       "      <td>200</td>\n",
       "      <td>m</td>\n",
       "      <td>1</td>\n",
       "      <td>1</td>\n",
       "    </tr>\n",
       "    <tr>\n",
       "      <th>12</th>\n",
       "      <td>1</td>\n",
       "      <td>Sungai Utan Kayu Jl Pengayoman</td>\n",
       "      <td>Cempaka Putih</td>\n",
       "      <td>Jakarta Pusat</td>\n",
       "      <td>600</td>\n",
       "      <td>m</td>\n",
       "      <td>1</td>\n",
       "      <td>12</td>\n",
       "    </tr>\n",
       "    <tr>\n",
       "      <th>13</th>\n",
       "      <td>1</td>\n",
       "      <td>Sungai Utan Kayu Jembatan Serong</td>\n",
       "      <td>Cempaka Putih</td>\n",
       "      <td>Jakarta Pusat</td>\n",
       "      <td>400</td>\n",
       "      <td>m</td>\n",
       "      <td>1</td>\n",
       "      <td>12</td>\n",
       "    </tr>\n",
       "    <tr>\n",
       "      <th>14</th>\n",
       "      <td>1</td>\n",
       "      <td>Kali / Sungai Utan Kayu Jembatan Serong - SLTP...</td>\n",
       "      <td>Cempaka Putih</td>\n",
       "      <td>Jakarta Pusat</td>\n",
       "      <td>950</td>\n",
       "      <td>m</td>\n",
       "      <td>1</td>\n",
       "      <td>12</td>\n",
       "    </tr>\n",
       "  </tbody>\n",
       "</table>\n",
       "</div>"
      ],
      "text/plain": [
       "    bulan                                       titik_lokasi      kecamatan  \\\n",
       "0       1             Kali / Sungai Sentiong - Ruas Dewi Sri     Johar Baru   \n",
       "1       1               Kali / Sungai Sentiong - Ruas Abapon     Johar Baru   \n",
       "2       1           Kali / Sungai Sentiong - JL Tanah Tinggi     Johar Baru   \n",
       "3       1        Kali / Sungai Sentiong Jl.Galur - Pombensin     Johar Baru   \n",
       "4       1                 Kali / Sungai Sentiong - Jl. Timah     Johar Baru   \n",
       "5       1                                PHB Kawi Kawi Bawah     Johar Baru   \n",
       "6       1                                      PHB Kayu Awet     Johar Baru   \n",
       "7       1                                    PHB Pulo Gundul     Johar Baru   \n",
       "8       1                               PHB Tanah Tinggi XII     Johar Baru   \n",
       "9       1                                      PHB Bala Dewa     Johar Baru   \n",
       "10      1                           PHB Percetakan Negara II     Johar Baru   \n",
       "11      1                                   PHB Johar Baru V     Johar Baru   \n",
       "12      1                     Sungai Utan Kayu Jl Pengayoman  Cempaka Putih   \n",
       "13      1                   Sungai Utan Kayu Jembatan Serong  Cempaka Putih   \n",
       "14      1  Kali / Sungai Utan Kayu Jembatan Serong - SLTP...  Cempaka Putih   \n",
       "\n",
       "          wilayah  panjang/luas satuan_panjang/luas  tanggal  \\\n",
       "0   Jakarta Pusat           464                   m        1   \n",
       "1   Jakarta Pusat           464                   m        1   \n",
       "2   Jakarta Pusat           464                   m        1   \n",
       "3   Jakarta Pusat           606                   m        1   \n",
       "4   Jakarta Pusat           310                   m        1   \n",
       "5   Jakarta Pusat           620                   m        1   \n",
       "6   Jakarta Pusat           300                   m        1   \n",
       "7   Jakarta Pusat           500                   m        1   \n",
       "8   Jakarta Pusat           500                   m        1   \n",
       "9   Jakarta Pusat           330                   m        1   \n",
       "10  Jakarta Pusat           500                   m        1   \n",
       "11  Jakarta Pusat           200                   m        1   \n",
       "12  Jakarta Pusat           600                   m        1   \n",
       "13  Jakarta Pusat           400                   m        1   \n",
       "14  Jakarta Pusat           950                   m        1   \n",
       "\n",
       "   volume_sampah_perhari(m3)  \n",
       "0                          4  \n",
       "1                          4  \n",
       "2                          4  \n",
       "3                          4  \n",
       "4                          7  \n",
       "5                          1  \n",
       "6                         12  \n",
       "7                          1  \n",
       "8                          1  \n",
       "9                          1  \n",
       "10                        12  \n",
       "11                         1  \n",
       "12                        12  \n",
       "13                        12  \n",
       "14                        12  "
      ]
     },
     "execution_count": 5,
     "metadata": {},
     "output_type": "execute_result"
    }
   ],
   "source": [
    "df.head(15)"
   ]
  },
  {
   "cell_type": "code",
   "execution_count": 6,
   "id": "ccdd801e-e42c-4719-b711-53c3080786f0",
   "metadata": {},
   "outputs": [
    {
     "data": {
      "text/plain": [
       "bulan                         int64\n",
       " titik_lokasi                object\n",
       " kecamatan                   object\n",
       " wilayah                     object\n",
       " panjang/luas                object\n",
       "satuan_panjang/luas          object\n",
       "tanggal                       int64\n",
       "volume_sampah_perhari(m3)    object\n",
       "dtype: object"
      ]
     },
     "execution_count": 6,
     "metadata": {},
     "output_type": "execute_result"
    }
   ],
   "source": [
    "df.dtypes"
   ]
  },
  {
   "cell_type": "code",
   "execution_count": 7,
   "id": "be13f7bf-2772-452a-a038-570cf1a25961",
   "metadata": {},
   "outputs": [
    {
     "data": {
      "text/html": [
       "<div>\n",
       "<style scoped>\n",
       "    .dataframe tbody tr th:only-of-type {\n",
       "        vertical-align: middle;\n",
       "    }\n",
       "\n",
       "    .dataframe tbody tr th {\n",
       "        vertical-align: top;\n",
       "    }\n",
       "\n",
       "    .dataframe thead th {\n",
       "        text-align: right;\n",
       "    }\n",
       "</style>\n",
       "<table border=\"1\" class=\"dataframe\">\n",
       "  <thead>\n",
       "    <tr style=\"text-align: right;\">\n",
       "      <th></th>\n",
       "      <th>bulan</th>\n",
       "      <th>tanggal</th>\n",
       "    </tr>\n",
       "  </thead>\n",
       "  <tbody>\n",
       "    <tr>\n",
       "      <th>count</th>\n",
       "      <td>54343.0</td>\n",
       "      <td>54343.000000</td>\n",
       "    </tr>\n",
       "    <tr>\n",
       "      <th>mean</th>\n",
       "      <td>1.0</td>\n",
       "      <td>16.000000</td>\n",
       "    </tr>\n",
       "    <tr>\n",
       "      <th>std</th>\n",
       "      <td>0.0</td>\n",
       "      <td>8.944354</td>\n",
       "    </tr>\n",
       "    <tr>\n",
       "      <th>min</th>\n",
       "      <td>1.0</td>\n",
       "      <td>1.000000</td>\n",
       "    </tr>\n",
       "    <tr>\n",
       "      <th>25%</th>\n",
       "      <td>1.0</td>\n",
       "      <td>8.000000</td>\n",
       "    </tr>\n",
       "    <tr>\n",
       "      <th>50%</th>\n",
       "      <td>1.0</td>\n",
       "      <td>16.000000</td>\n",
       "    </tr>\n",
       "    <tr>\n",
       "      <th>75%</th>\n",
       "      <td>1.0</td>\n",
       "      <td>24.000000</td>\n",
       "    </tr>\n",
       "    <tr>\n",
       "      <th>max</th>\n",
       "      <td>1.0</td>\n",
       "      <td>31.000000</td>\n",
       "    </tr>\n",
       "  </tbody>\n",
       "</table>\n",
       "</div>"
      ],
      "text/plain": [
       "         bulan       tanggal\n",
       "count  54343.0  54343.000000\n",
       "mean       1.0     16.000000\n",
       "std        0.0      8.944354\n",
       "min        1.0      1.000000\n",
       "25%        1.0      8.000000\n",
       "50%        1.0     16.000000\n",
       "75%        1.0     24.000000\n",
       "max        1.0     31.000000"
      ]
     },
     "execution_count": 7,
     "metadata": {},
     "output_type": "execute_result"
    }
   ],
   "source": [
    "df.describe()"
   ]
  },
  {
   "cell_type": "markdown",
   "id": "d8fb8936-3673-4fdb-84d2-99ef96d27978",
   "metadata": {},
   "source": [
    "### 3. Pembersihan dan Konsistensi Data"
   ]
  },
  {
   "cell_type": "markdown",
   "id": "f46dd8a9-d438-4c4b-aad8-0dec2d31396a",
   "metadata": {},
   "source": [
    "**Step 1:** Merapihkan kolom <br>\n",
    "Ada spasi tambahan di beberapa nama kolom, seperti \" titik_lokasi\", \" kecamatan\", dll. Saya akan membersihkannya agar konsisten"
   ]
  },
  {
   "cell_type": "markdown",
   "id": "55275444-bd78-4d05-b876-937f186e130d",
   "metadata": {},
   "source": [
    "- **Asumsi 1:** Semua data dalam kolom **`Panjang/Luas`** akan dikonversi menjadi nilai luas (m²). Jika data awal berisi panjang, maka akan diasumsikan panjang tersebut mewakili luas sehingga hasil konversinya berupa luas dalam satuan meter persegi.\n",
    "- **Asumsi 2:** Semua data dalam kolom **`Satuan_Panjang/Luas`** akan diabaikan atau dihapus karena sudah diintegrasikan ke dalam satuan m² berdasarkan **Asumsi 1**, sehingga kolom ini tidak lagi diperlukan."
   ]
  },
  {
   "cell_type": "code",
   "execution_count": 8,
   "id": "d1e68dfe-66c9-4f0e-bb8b-ff755ce4af23",
   "metadata": {},
   "outputs": [
    {
     "data": {
      "text/plain": [
       "Index(['bulan', ' titik_lokasi', ' kecamatan', ' wilayah', ' panjang/luas',\n",
       "       'satuan_panjang/luas', 'tanggal', 'volume_sampah_perhari(m3)'],\n",
       "      dtype='object')"
      ]
     },
     "execution_count": 8,
     "metadata": {},
     "output_type": "execute_result"
    }
   ],
   "source": [
    "df.columns"
   ]
  },
  {
   "cell_type": "code",
   "execution_count": 9,
   "id": "6d83895d-8a2e-4ee0-8d05-daaf5dfd175d",
   "metadata": {},
   "outputs": [],
   "source": [
    "# Rename kolom dan merapihkannya (Kode untuk Asumsi 1)\n",
    "df = df.rename(columns={'bulan':'Bulan', \n",
    "                        ' titik_lokasi':'Titik_Lokasi', \n",
    "                        ' kecamatan':'Kecamatan', \n",
    "                        ' wilayah':'Wilayah', \n",
    "                        ' panjang/luas':'Luas(m2)',\n",
    "                        'satuan_panjang/luas':'Satuan_Panjang_Luas', \n",
    "                        'tanggal':'Tanggal', \n",
    "                        'volume_sampah_perhari(m3)':'Volume_Sampah_Perhari(m3)'})"
   ]
  },
  {
   "cell_type": "code",
   "execution_count": 10,
   "id": "c04c7219-1eb8-4b7c-b598-c8c4b5142c2c",
   "metadata": {},
   "outputs": [
    {
     "data": {
      "text/plain": [
       "Index(['Bulan', 'Titik_Lokasi', 'Kecamatan', 'Wilayah', 'Luas(m2)',\n",
       "       'Satuan_Panjang_Luas', 'Tanggal', 'Volume_Sampah_Perhari(m3)'],\n",
       "      dtype='object')"
      ]
     },
     "execution_count": 10,
     "metadata": {},
     "output_type": "execute_result"
    }
   ],
   "source": [
    "df.columns"
   ]
  },
  {
   "cell_type": "code",
   "execution_count": 11,
   "id": "bcf63edb-6fd1-48a1-b902-8d3d238b631b",
   "metadata": {},
   "outputs": [],
   "source": [
    "# kode untuk Asumsi 2\n",
    "df.drop(['Satuan_Panjang_Luas'], axis=1, inplace=True)"
   ]
  },
  {
   "cell_type": "code",
   "execution_count": 12,
   "id": "59e4361b-5861-4d33-8024-03a9434b383d",
   "metadata": {},
   "outputs": [
    {
     "data": {
      "text/plain": [
       "Bulan                         int64\n",
       "Titik_Lokasi                 object\n",
       "Kecamatan                    object\n",
       "Wilayah                      object\n",
       "Luas(m2)                     object\n",
       "Tanggal                       int64\n",
       "Volume_Sampah_Perhari(m3)    object\n",
       "dtype: object"
      ]
     },
     "execution_count": 12,
     "metadata": {},
     "output_type": "execute_result"
    }
   ],
   "source": [
    "df.dtypes"
   ]
  },
  {
   "cell_type": "markdown",
   "id": "25f2675b-5cea-4476-b33f-d1f14b6eea63",
   "metadata": {},
   "source": [
    "**Step 2:** Mengganti tipe data yang tidak sesuai<br>\n",
    "Dari tipe data yang terlihat di atas, tampak ada beberapa ketidaksesuaian pada tipe data kolom-kolom tersebut, seperti: <br>\n",
    "- **`Luas(m2) (object)`** : Kolom ini tidak sesuai karena seharusnya berisi angka (baik panjang maupun luas), jadi sebaiknya diubah menjadi **float64**. Tipe **object** menunjukkan mungkin ada teks yang mengacaukan nilai numeriknya. Kita perlu memastikan bahwa hanya angka yang ada di kolom ini.\n",
    "- **`Volume_Sampah_Perhari(m3) (object)`** : Kolom ini seharusnya berisi angka yang mewakili volume sampah, sehingga sebaiknya diubah menjadi **float64**. Tipe **object** menunjukkan mungkin ada noise seperti string atau simbol lain di dalam kolom ini. <br>\n",
    "\n",
    "<br>Berikut ini saya akan menggantinya ke tipe data yang sesuai"
   ]
  },
  {
   "cell_type": "code",
   "execution_count": 13,
   "id": "c007a12f-9db2-4db9-bb9e-cd7ede4bf1a1",
   "metadata": {},
   "outputs": [
    {
     "data": {
      "text/plain": [
       "Bulan                          int64\n",
       "Titik_Lokasi                  object\n",
       "Kecamatan                     object\n",
       "Wilayah                       object\n",
       "Luas(m2)                     float64\n",
       "Tanggal                        int64\n",
       "Volume_Sampah_Perhari(m3)    float64\n",
       "dtype: object"
      ]
     },
     "execution_count": 13,
     "metadata": {},
     "output_type": "execute_result"
    }
   ],
   "source": [
    "df['Luas(m2)'] = pd.to_numeric(df['Luas(m2)'], errors='coerce')  # Mengubah ke float, invalid values jadi NaN\n",
    "df['Volume_Sampah_Perhari(m3)'] = pd.to_numeric(df['Volume_Sampah_Perhari(m3)'], errors='coerce')  # Mengubah ke float\n",
    "\n",
    "# Melihat perubahan tipe data\n",
    "df.dtypes"
   ]
  },
  {
   "cell_type": "markdown",
   "id": "7cddeda1-bdcd-4a64-9075-aec447d0326c",
   "metadata": {},
   "source": [
    "### 4. Mengatasi Missing Values\n",
    "Berikut adalah tahapan yang dilakukan untuk mengecek dan mengisi missing values dalam dataset:\n",
    "1. **Cek Missing Values di Dataset:** Langkah pertama adalah mengecek jumlah missing values (NaN) di setiap kolom. Dapat dilakukan dengan fungsi `df.isna().sum()`\n",
    "2. **Analisis Kolom dengan Missing Values:** Setelah mengetahui kolom mana yang memiliki missing values, kita harus melakukan analisis terhadap kolom tersebut:\n",
    "   - Apakah missing values dalam jumlah besar atau kecil?\n",
    "   - Seberapa penting kolom tersebut untuk analisis?\n",
    "   - Bagaimana distribusi data pada kolom tersebut? Apakah datanya numerik atau kategori?\n",
    "3. **Tentukan Strategi Penanganan Missing Values:** Berdasarkan analisis, tentukan strategi yang paling tepat untuk mengisi missing values. Beberapa opsi yang dapat dipilih:\n",
    "   - **Untuk Data Numerik:**\n",
    "     - Rata-rata (mean): Cocok digunakan jika distribusi data cukup normal (tidak banyak outlier).\n",
    "     - Median: Jika data mengandung outlier yang signifikan, median lebih baik digunakan daripada mean.\n",
    "     - Mode: Menggunakan nilai yang paling sering muncul dalam data, cocok jika datanya cenderung bernilai tetap.\n",
    "   - **Untuk Data Kategori:**\n",
    "     - Mode: Mengisi dengan nilai yang paling sering muncul dalam kolom tersebut.\n",
    "     - Menggunakan nilai khusus: Mengisi dengan kategori seperti \"Tidak diketahui\" atau \"Lainnya\".\n",
    "4. **Menghapus Baris atau Kolom dengan Missing Values (Opsional):** Jika missing values terlalu banyak dan pengisian dengan nilai lain tidak relevan, kita bisa menghapus baris atau kolom yang mengandung missing values.\n",
    "5. **Verifikasi Pengisian Missing Values:** Setelah mengisi atau menghapus missing values, lakukan pengecekan ulang untuk memastikan tidak ada missing values yang tersisa `df.isna().sum()`. Jika semua missing values telah terisi atau dihapus, jumlah missing values akan menjadi 0.\n",
    "6. **Simpan Dataset yang Telah Dibersihkan:** Setelah semua langkah selesai, jangan lupa untuk menyimpan dataset yang sudah dibersihkan: `df.to_csv('dataset_bersih.csv', index=False)` <br><br>\n",
    " "
   ]
  },
  {
   "cell_type": "markdown",
   "id": "23235dfd-3421-404d-b6fd-063a4d78fd72",
   "metadata": {},
   "source": [
    "**Step 1:** Cek Missing Values di Dataset"
   ]
  },
  {
   "cell_type": "code",
   "execution_count": 14,
   "id": "032500ff-3d87-4c36-a7e9-efcda81fcb02",
   "metadata": {},
   "outputs": [
    {
     "data": {
      "text/plain": [
       "Bulan                            0\n",
       "Titik_Lokasi                     0\n",
       "Kecamatan                        0\n",
       "Wilayah                          0\n",
       "Luas(m2)                     13299\n",
       "Tanggal                          0\n",
       "Volume_Sampah_Perhari(m3)    17703\n",
       "dtype: int64"
      ]
     },
     "execution_count": 14,
     "metadata": {},
     "output_type": "execute_result"
    }
   ],
   "source": [
    "df.isna().sum()"
   ]
  },
  {
   "cell_type": "markdown",
   "id": "e64266ac-b5cc-4bf8-adfb-7335941ef290",
   "metadata": {},
   "source": [
    "Berdasarkan hasil pengecekan missing values diatas, terdapat dua kolom dengan missing values:\n",
    "\n",
    "- **Luas(m2):** 13.299 missing values\n",
    "- **Volume_Sampah_Perhari(m3):** 17.703 missing values"
   ]
  },
  {
   "cell_type": "markdown",
   "id": "9693178f-4a86-4590-81e4-817c46f2e713",
   "metadata": {},
   "source": [
    "**Step 2:** Mengecek Outliers <br>\n",
    "Sebelum mengisi missing values, penting untuk mengecek apakah terdapat outliers (nilai ekstrem) dalam data. Outliers dapat memengaruhi hasil pengisian missing values, terutama jika kita berencana menggunakan metode seperti mean atau median."
   ]
  },
  {
   "cell_type": "markdown",
   "id": "7f5c0621-d42f-46ce-b895-3f21ecfc1fa0",
   "metadata": {},
   "source": [
    "1. Mengecek Outliers dengan visualisasi Boxplot terhadap kolom yang memiliki missing values. **Boxplot** adalah cara visual yang cepat untuk mendeteksi outliers. Nilai-nilai yang berada di luar whiskers dari boxplot biasanya dianggap sebagai outliers."
   ]
  },
  {
   "cell_type": "code",
   "execution_count": 15,
   "id": "8f1429fd-0f62-4e65-ace2-3cec02bd809e",
   "metadata": {},
   "outputs": [
    {
     "data": {
      "image/png": "[encoded data removed]",
      "text/plain": [
       "<Figure size 800x600 with 1 Axes>"
      ]
     },
     "metadata": {},
     "output_type": "display_data"
    }
   ],
   "source": [
    "# Boxplot untuk kolom 'Luas(m2)'\n",
    "plt.figure(figsize=(8, 6))\n",
    "sns.boxplot(df['Luas(m2)'])\n",
    "plt.title('Boxplot Luas(m2)')\n",
    "plt.show()"
   ]
  },
  {
   "cell_type": "code",
   "execution_count": 16,
   "id": "32b0725e-0d7e-446e-aa26-13ba810c2bc1",
   "metadata": {},
   "outputs": [
    {
     "data": {
      "image/png": "[encoded data removed]",
      "text/plain": [
       "<Figure size 800x600 with 1 Axes>"
      ]
     },
     "metadata": {},
     "output_type": "display_data"
    }
   ],
   "source": [
    "# Boxplot untuk kolom 'Volume_Sampah_Perhari(m3)'\n",
    "plt.figure(figsize=(8, 6))\n",
    "sns.boxplot(df['Volume_Sampah_Perhari(m3)'])\n",
    "plt.title('Boxplot Volume Sampah per Hari (m3)')\n",
    "plt.show()"
   ]
  },
  {
   "cell_type": "markdown",
   "id": "4de39060-dedc-43d7-9439-09991c592151",
   "metadata": {},
   "source": [
    "2. Dari visualisasi diatas kita melihat bahwa terdapat outliers pada kedua kolom tersebut. Sekarang saya akan menggunakan teknik **IQR (Interquartile Range)** untuk mendeteksi outliers. Nilai yang berada di luar rentang 1.5 kali IQR dari kuartil pertama (Q1) atau kuartil ketiga (Q3) dianggap outliers."
   ]
  },
  {
   "cell_type": "code",
   "execution_count": 17,
   "id": "34c14b6d-ceb5-44bb-8390-bd5880519347",
   "metadata": {
    "scrolled": true
   },
   "outputs": [
    {
     "name": "stdout",
     "output_type": "stream",
     "text": [
      "       Bulan                                       Titik_Lokasi    Kecamatan  \\\n",
      "28         1                Kali / Sungai Ciliwung Ruas Veteran       Gambir   \n",
      "72         1  Kali / Sungai Ciliwung Emplasement PA Manggara...      Menteng   \n",
      "103        1    Kali / Sungai Ciragil Jembatan Hotel Park Royal  Tanah Abang   \n",
      "111        1                                    PHB Abdul Jalil  Tanah Abang   \n",
      "112        1                                   PHB Kampung Bali  Tanah Abang   \n",
      "...      ...                                                ...          ...   \n",
      "54106      1                                          PHB Gardu  Kramat Jati   \n",
      "54130      1                                  PHB Cipinang Jaya   Jatinegara   \n",
      "54136      1                                       PHB SMAN 100   Jatinegara   \n",
      "54150      1        Kali Baru Timur Cawang Kompor - Kebon Nanas   Jatinegara   \n",
      "54155      1         Kali Baru Timur Jembatan Hitam-Jl. Bunga I     Matraman   \n",
      "\n",
      "             Wilayah  Luas(m2)  Tanggal  Volume_Sampah_Perhari(m3)  \n",
      "28     Jakarta Pusat    2000.0        1                      12.00  \n",
      "72     Jakarta Pusat    3500.0        1                      12.00  \n",
      "103    Jakarta Pusat    2000.0        1                       1.00  \n",
      "111    Jakarta Pusat   12000.0        1                       2.24  \n",
      "112    Jakarta Pusat    2000.0        1                       4.48  \n",
      "...              ...       ...      ...                        ...  \n",
      "54106  Jakarta Timur    2000.0       31                        NaN  \n",
      "54130  Jakarta Timur    1800.0       31                        NaN  \n",
      "54136  Jakarta Timur    2000.0       31                        NaN  \n",
      "54150  Jakarta Timur    2000.0       31                        NaN  \n",
      "54155  Jakarta Timur    2000.0       31                        NaN  \n",
      "\n",
      "[4995 rows x 7 columns]\n",
      "       Bulan                                       Titik_Lokasi  \\\n",
      "572        1     Kali Cengkareng Drain Jln. Raya Basmol/Tanggul   \n",
      "745        1  Banjir Kanal Barat Seasons City (Jln. Inspeksi...   \n",
      "822        1  Sekatan HDPE Kali Sodetan Sekretaris (Jln. Tan...   \n",
      "2575       1  Sekatan HDPE Kali Sodetan Sekretaris (Jln. Tan...   \n",
      "4328       1  Sekatan HDPE Kali Sodetan Sekretaris (Jln. Tan...   \n",
      "5331       1  Kali / Sungai Ciliwung Emplasement PA Manggara...   \n",
      "8837       1  Kali / Sungai Ciliwung Emplasement PA Manggara...   \n",
      "9587       1  Sekatan HDPE Kali Sodetan Sekretaris (Jln. Tan...   \n",
      "10590      1  Kali / Sungai Ciliwung Emplasement PA Manggara...   \n",
      "11263      1  Banjir Kanal Barat Seasons City (Jln. Inspeksi...   \n",
      "11340      1  Sekatan HDPE Kali Sodetan Sekretaris (Jln. Tan...   \n",
      "13093      1  Sekatan HDPE Kali Sodetan Sekretaris (Jln. Tan...   \n",
      "15849      1  Kali / Sungai Ciliwung Emplasement PA Manggara...   \n",
      "18352      1  Sekatan HDPE Kali Sodetan Sekretaris (Jln. Tan...   \n",
      "21858      1  Sekatan HDPE Kali Sodetan Sekretaris (Jln. Tan...   \n",
      "23611      1  Sekatan HDPE Kali Sodetan Sekretaris (Jln. Tan...   \n",
      "31626      1  Kali / Sungai Ciliwung Emplasement PA Manggara...   \n",
      "32376      1  Sekatan HDPE Kali Sodetan Sekretaris (Jln. Tan...   \n",
      "33379      1  Kali / Sungai Ciliwung Emplasement PA Manggara...   \n",
      "33879      1     Kali Cengkareng Drain Jln. Raya Basmol/Tanggul   \n",
      "34052      1  Banjir Kanal Barat Seasons City (Jln. Inspeksi...   \n",
      "34129      1  Sekatan HDPE Kali Sodetan Sekretaris (Jln. Tan...   \n",
      "35805      1  Banjir Kanal Barat Seasons City (Jln. Inspeksi...   \n",
      "35882      1  Sekatan HDPE Kali Sodetan Sekretaris (Jln. Tan...   \n",
      "37558      1  Banjir Kanal Barat Seasons City (Jln. Inspeksi...   \n",
      "37635      1  Sekatan HDPE Kali Sodetan Sekretaris (Jln. Tan...   \n",
      "39388      1  Sekatan HDPE Kali Sodetan Sekretaris (Jln. Tan...   \n",
      "42226      1                        Kali Cakung Drain Sekatan 1   \n",
      "42894      1  Sekatan HDPE Kali Sodetan Sekretaris (Jln. Tan...   \n",
      "43897      1  Kali / Sungai Ciliwung Emplasement PA Manggara...   \n",
      "43977      1               Kali BKT Marunda Pintu Air Sekatan 1   \n",
      "44570      1  Banjir Kanal Barat Seasons City (Jln. Inspeksi...   \n",
      "44647      1  Sekatan HDPE Kali Sodetan Sekretaris (Jln. Tan...   \n",
      "45650      1  Kali / Sungai Ciliwung Emplasement PA Manggara...   \n",
      "48153      1  Sekatan HDPE Kali Sodetan Sekretaris (Jln. Tan...   \n",
      "49156      1  Kali / Sungai Ciliwung Emplasement PA Manggara...   \n",
      "49906      1  Sekatan HDPE Kali Sodetan Sekretaris (Jln. Tan...   \n",
      "50533      1                        Kali Baru Timur (Deta-Ciba)   \n",
      "50909      1  Kali / Sungai Ciliwung Emplasement PA Manggara...   \n",
      "51582      1  Banjir Kanal Barat Seasons City (Jln. Inspeksi...   \n",
      "51659      1  Sekatan HDPE Kali Sodetan Sekretaris (Jln. Tan...   \n",
      "52286      1                        Kali Baru Timur (Deta-Ciba)   \n",
      "53412      1  Sekatan HDPE Kali Sodetan Sekretaris (Jln. Tan...   \n",
      "\n",
      "               Kecamatan        Wilayah  Luas(m2)  Tanggal  \\\n",
      "572            Kembangan  Jakarta Barat    1000.0        1   \n",
      "745              Tambora  Jakarta Barat       2.5        1   \n",
      "822    Grogol Petamburan  Jakarta Barat     500.0        1   \n",
      "2575   Grogol Petamburan  Jakarta Barat     500.0        2   \n",
      "4328   Grogol Petamburan  Jakarta Barat     500.0        3   \n",
      "5331             Menteng  Jakarta Pusat    3500.0        4   \n",
      "8837             Menteng  Jakarta Pusat    3500.0        6   \n",
      "9587   Grogol Petamburan  Jakarta Barat     500.0        6   \n",
      "10590            Menteng  Jakarta Pusat    3500.0        7   \n",
      "11263            Tambora  Jakarta Barat       2.5        7   \n",
      "11340  Grogol Petamburan  Jakarta Barat     500.0        7   \n",
      "13093  Grogol Petamburan  Jakarta Barat     500.0        8   \n",
      "15849            Menteng  Jakarta Pusat    3500.0       10   \n",
      "18352  Grogol Petamburan  Jakarta Barat     500.0       11   \n",
      "21858  Grogol Petamburan  Jakarta Barat     500.0       13   \n",
      "23611  Grogol Petamburan  Jakarta Barat     500.0       14   \n",
      "31626            Menteng  Jakarta Pusat    3500.0       19   \n",
      "32376  Grogol Petamburan  Jakarta Barat     500.0       19   \n",
      "33379            Menteng  Jakarta Pusat    3500.0       20   \n",
      "33879          Kembangan  Jakarta Barat    1000.0       20   \n",
      "34052            Tambora  Jakarta Barat       2.5       20   \n",
      "34129  Grogol Petamburan  Jakarta Barat     500.0       20   \n",
      "35805            Tambora  Jakarta Barat       2.5       21   \n",
      "35882  Grogol Petamburan  Jakarta Barat     500.0       21   \n",
      "37558            Tambora  Jakarta Barat       2.5       22   \n",
      "37635  Grogol Petamburan  Jakarta Barat     500.0       22   \n",
      "39388  Grogol Petamburan  Jakarta Barat     500.0       23   \n",
      "42226          Cilincing  Jakarta Utara       NaN       25   \n",
      "42894  Grogol Petamburan  Jakarta Barat     500.0       25   \n",
      "43897            Menteng  Jakarta Pusat    3500.0       26   \n",
      "43977          Cilincing  Jakarta Utara       NaN       26   \n",
      "44570            Tambora  Jakarta Barat       2.5       26   \n",
      "44647  Grogol Petamburan  Jakarta Barat     500.0       26   \n",
      "45650            Menteng  Jakarta Pusat    3500.0       27   \n",
      "48153  Grogol Petamburan  Jakarta Barat     500.0       28   \n",
      "49156            Menteng  Jakarta Pusat    3500.0       29   \n",
      "49906  Grogol Petamburan  Jakarta Barat     500.0       29   \n",
      "50533         Pasar Rebo  Jakarta Timur     700.0       29   \n",
      "50909            Menteng  Jakarta Pusat    3500.0       30   \n",
      "51582            Tambora  Jakarta Barat       2.5       30   \n",
      "51659  Grogol Petamburan  Jakarta Barat     500.0       30   \n",
      "52286         Pasar Rebo  Jakarta Timur     700.0       30   \n",
      "53412  Grogol Petamburan  Jakarta Barat     500.0       31   \n",
      "\n",
      "       Volume_Sampah_Perhari(m3)  \n",
      "572                         43.0  \n",
      "745                         39.0  \n",
      "822                         45.0  \n",
      "2575                        54.0  \n",
      "4328                        36.0  \n",
      "5331                        32.0  \n",
      "8837                        46.0  \n",
      "9587                        36.0  \n",
      "10590                      152.0  \n",
      "11263                       57.0  \n",
      "11340                       45.0  \n",
      "13093                       45.0  \n",
      "15849                       34.0  \n",
      "18352                       36.0  \n",
      "21858                       45.0  \n",
      "23611                       45.0  \n",
      "31626                       44.0  \n",
      "32376                       45.0  \n",
      "33379                      123.0  \n",
      "33879                       40.0  \n",
      "34052                       69.0  \n",
      "34129                       45.0  \n",
      "35805                       60.0  \n",
      "35882                       45.0  \n",
      "37558                       39.0  \n",
      "37635                       45.0  \n",
      "39388                       36.0  \n",
      "42226                       42.0  \n",
      "42894                       45.0  \n",
      "43897                      144.0  \n",
      "43977                       38.0  \n",
      "44570                       39.0  \n",
      "44647                       45.0  \n",
      "45650                       42.0  \n",
      "48153                       54.0  \n",
      "49156                       38.0  \n",
      "49906                       36.0  \n",
      "50533                       32.0  \n",
      "50909                       54.0  \n",
      "51582                       39.0  \n",
      "51659                       54.0  \n",
      "52286                       36.0  \n",
      "53412                       54.0  \n"
     ]
    }
   ],
   "source": [
    "# Menghitung IQR untuk kolom 'Luas(m2)'\n",
    "Q1 = df['Luas(m2)'].quantile(0.25)\n",
    "Q3 = df['Luas(m2)'].quantile(0.75)\n",
    "IQR = Q3 - Q1\n",
    "\n",
    "# Mendeteksi outliers\n",
    "outliers_luas = df[(df['Luas(m2)'] < (Q1 - 1.5 * IQR)) | (df['Luas(m2)'] > (Q3 + 1.5 * IQR))]\n",
    "\n",
    "print(outliers_luas)\n",
    "\n",
    "# Menghitung IQR untuk kolom 'Volume_Sampah_Perhari(m3)'\n",
    "Q1 = df['Volume_Sampah_Perhari(m3)'].quantile(0.25)\n",
    "Q3 = df['Volume_Sampah_Perhari(m3)'].quantile(0.75)\n",
    "IQR = Q3 - Q1\n",
    "\n",
    "# Mendeteksi outliers\n",
    "outliers_volume = df[(df['Volume_Sampah_Perhari(m3)'] < (Q1 - 1.5 * IQR)) | (df['Volume_Sampah_Perhari(m3)'] > (Q3 + 1.5 * IQR))]\n",
    "\n",
    "print(outliers_volume)"
   ]
  },
  {
   "cell_type": "markdown",
   "id": "105732ea-c473-4f12-933f-1b6b632b17b1",
   "metadata": {},
   "source": [
    "**Step 3:** Mengisi Missing Values : Dikarenakan distribusi data cukup normal (tidak banyak outlier) maka saya akan mengisi missing values menggunakan teknik **Mean (Rata-rata)**."
   ]
  },
  {
   "cell_type": "markdown",
   "id": "92ed609c-3e39-434b-9cbd-b01af3f98d25",
   "metadata": {},
   "source": [
    "1. Mengisi missing values di kolom **Luas(m2)** dengan **Mean**:"
   ]
  },
  {
   "cell_type": "code",
   "execution_count": null,
   "id": "11101fa7-a939-4c97-8dde-ee9cb789d587",
   "metadata": {},
   "outputs": [],
   "source": [
    "df['Luas(m2)'].fillna(df['Luas(m2)'].mean(), inplace=True)"
   ]
  },
  {
   "cell_type": "code",
   "execution_count": 19,
   "id": "f4ae28c5-dda7-47aa-8e90-568e7b6a88b4",
   "metadata": {},
   "outputs": [
    {
     "data": {
      "text/plain": [
       "Bulan                            0\n",
       "Titik_Lokasi                     0\n",
       "Kecamatan                        0\n",
       "Wilayah                          0\n",
       "Luas(m2)                         0\n",
       "Tanggal                          0\n",
       "Volume_Sampah_Perhari(m3)    17703\n",
       "dtype: int64"
      ]
     },
     "execution_count": 19,
     "metadata": {},
     "output_type": "execute_result"
    }
   ],
   "source": [
    "# Cek ulang\n",
    "df.isna().sum()"
   ]
  },
  {
   "cell_type": "markdown",
   "id": "9d0f9eee-8fed-4ec1-b314-8c92d16de63b",
   "metadata": {},
   "source": [
    "2. Mengisi missing values di kolom **Volume_Sampah_Perhari(m3)** dengan **Median** dikarenakan data tidak terdistribusi secara normal atau terdapat banyak outlier."
   ]
  },
  {
   "cell_type": "code",
   "execution_count": 20,
   "id": "721f76e9-85e3-413c-8328-28e5b7544ad0",
   "metadata": {},
   "outputs": [],
   "source": [
    "df.fillna({'Volume_Sampah_Perhari(m3)': df['Volume_Sampah_Perhari(m3)'].median()}, inplace=True)"
   ]
  },
  {
   "cell_type": "code",
   "execution_count": 21,
   "id": "263ae350-8326-41a3-8446-77cd87d33858",
   "metadata": {},
   "outputs": [
    {
     "data": {
      "text/plain": [
       "Bulan                        0\n",
       "Titik_Lokasi                 0\n",
       "Kecamatan                    0\n",
       "Wilayah                      0\n",
       "Luas(m2)                     0\n",
       "Tanggal                      0\n",
       "Volume_Sampah_Perhari(m3)    0\n",
       "dtype: int64"
      ]
     },
     "execution_count": 21,
     "metadata": {},
     "output_type": "execute_result"
    }
   ],
   "source": [
    "# Cek ulang\n",
    "df.isna().sum()"
   ]
  },
  {
   "cell_type": "markdown",
   "id": "245ea0f9-4f2b-4171-8303-74887d91a1ee",
   "metadata": {},
   "source": [
    "**Step 4:** Verifikasi Distribusi Data Setelah Pengisian"
   ]
  },
  {
   "cell_type": "markdown",
   "id": "c01f7615-d208-4a3b-99c1-5c8890b2eda1",
   "metadata": {},
   "source": [
    "Setelah mengisi missing values, sebaiknya kita memverifikasi distribusi data untuk memastikan pengisian yang dilakukan tidak menyebabkan data menjadi tidak akurat atau tidak wajar. Kita bisa menggunakan metode visualisasi seperti histogram:"
   ]
  },
  {
   "cell_type": "code",
   "execution_count": 22,
   "id": "8122c826-7500-4707-9fa5-d4e2f8d5632d",
   "metadata": {},
   "outputs": [
    {
     "data": {
      "text/plain": [
       "<Axes: >"
      ]
     },
     "execution_count": 22,
     "metadata": {},
     "output_type": "execute_result"
    },
    {
     "data": {
      "image/png": "[encoded data removed]",
      "text/plain": [
       "<Figure size 640x480 with 1 Axes>"
      ]
     },
     "metadata": {},
     "output_type": "display_data"
    }
   ],
   "source": [
    "df['Luas(m2)'].hist()"
   ]
  },
  {
   "cell_type": "code",
   "execution_count": 23,
   "id": "90e6ea35-1d3a-4c75-a7f9-571b6cf3bbc3",
   "metadata": {},
   "outputs": [
    {
     "data": {
      "text/plain": [
       "<Axes: >"
      ]
     },
     "execution_count": 23,
     "metadata": {},
     "output_type": "execute_result"
    },
    {
     "data": {
      "image/png": "[encoded data removed]",
      "text/plain": [
       "<Figure size 640x480 with 1 Axes>"
      ]
     },
     "metadata": {},
     "output_type": "display_data"
    }
   ],
   "source": [
    "df['Volume_Sampah_Perhari(m3)'].hist()"
   ]
  },
  {
   "cell_type": "markdown",
   "id": "01960b67-bdff-436d-8d25-5bcbc97937bb",
   "metadata": {},
   "source": [
    "### 5. Simpan Dataset yang Sudah Bersih"
   ]
  },
  {
   "cell_type": "markdown",
   "id": "86afed03-ac22-4d12-96d1-4afdcf83e503",
   "metadata": {},
   "source": [
    "Jika semua missing values telah terisi dan datanya sudah sesuai, kita bisa menyimpan dataset yang telah bersih:"
   ]
  },
  {
   "cell_type": "code",
   "execution_count": 24,
   "id": "6f40699b-dc9f-4867-b0c8-4742bedba9dc",
   "metadata": {},
   "outputs": [],
   "source": [
    "df.to_csv('dataset_bersih.csv', index=False)"
   ]
  },
  {
   "cell_type": "markdown",
   "id": "3e508465-d9e0-44bf-a826-a4cf9b9fb823",
   "metadata": {},
   "source": [
    "Dengan tahapan ini, kita akan berhasil menangani missing values pada kolom Luas(m2) dan Volume_Sampah_Perhari(m3) secara efektif."
   ]
  },
  {
   "cell_type": "markdown",
   "id": "4eced262-9774-4f35-b771-ca602106c7b4",
   "metadata": {},
   "source": [
    "# Selesai"
   ]
  }
 ],
 "metadata": {
  "kernelspec": {
   "display_name": "Python 3 (ipykernel)",
   "language": "python",
   "name": "python3"
  },
  "language_info": {
   "codemirror_mode": {
    "name": "ipython",
    "version": 3
   },
   "file_extension": ".py",
   "mimetype": "text/x-python",
   "name": "python",
   "nbconvert_exporter": "python",
   "pygments_lexer": "ipython3",
   "version": "3.12.6"
  }
 },
 "nbformat": 4,
 "nbformat_minor": 5
}
