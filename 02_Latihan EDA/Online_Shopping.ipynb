{
 "cells": [
  {
   "cell_type": "markdown",
   "id": "9d3556b0-7ae8-4af3-931f-d929f1d67728",
   "metadata": {},
   "source": [
    "# Latihan Mengolah Data, Exploratory Data Analysis\n",
    "## EDA | Online Shopping Dataset\n",
    "References: <a href=\"https://www.kaggle.com/code/ahmedabbas757/online-shopping-sales-eda\">clickme</a>\n",
    "- <b>Dataset:</b> Online Shopping\n",
    "- <b>Insight yang bisa didapat:</b> Analisis pola penjualan, kategori produk yang paling laris, tren bulanan, serta perilaku pelanggan berdasarkan waktu.\n",
    "- <b>Dataset sumber:</b> <a href=\"https://www.kaggle.com/datasets/jacksondivakarr/online-shopping-dataset\">Kaggle</a>"
   ]
  },
  {
   "cell_type": "markdown",
   "id": "5eab7dcf-6a02-46a2-ac9e-f5c03c3236a0",
   "metadata": {},
   "source": [
    "## Pertanyaan\n",
    "\n",
    "- **Penjualan dan Pendapatan:**\n",
    "  - Apa saja kategori produk yang paling laku?\n",
    "  - Produk mana yang menghasilkan pendapatan paling banyak?\n",
    "  - Apakah ada musim atau waktu tertentu dalam setahun ketika penjualan mencapai puncaknya?\n",
    "  - Bagaimana penjualan daring dan luring dibandingkan dalam hal pendapatan?\n",
    "\n",
    "- **Perilaku Pelanggan:**\n",
    "  - Apa saja produk yang paling populer di antara berbagai kelompok demografi pelanggan dan jenis kelamin?\n",
    "  - Bagaimana pengeluaran pelanggan bervariasi di berbagai lokasi?\n",
    "  - Apakah ada tren dalam penggunaan kupon atau diskon di antara pelanggan?\n",
    "\n",
    "- **Keberlanjutan dan Tren:**\n",
    "  - Apakah ada permintaan untuk produk yang lebih berkelanjutan atau organik di antara pelanggan?\n",
    "  - Tren makanan atau produk baru apa yang harus dipertimbangkan untuk tersedia di supermarket?\n"
   ]
  },
  {
   "cell_type": "markdown",
   "id": "b6ddb2dd-f962-40e5-888f-6e029b367563",
   "metadata": {},
   "source": [
    "## Step 0: Import dan Reading Data\n",
    "<p>Mengimport library yang akan digunakan dan menghubungkannya ke dataset</p>"
   ]
  },
  {
   "cell_type": "code",
   "execution_count": 1,
   "id": "e0c03896-2b01-4573-95e4-5762e3490c5e",
   "metadata": {},
   "outputs": [],
   "source": [
    "import pandas as pd\n",
    "import numpy as np\n",
    "import matplotlib.pylab as plt\n",
    "import seaborn as sns\n",
    "# plt.style.use('ggplot')\n",
    "pd.set_option('display.max_columns', 200)\n",
    "\n",
    "# Mengatur style untuk visualisasi\n",
    "sns.set_style(\"darkgrid\")\n",
    "sns.set_palette(\"RdBu\")"
   ]
  },
  {
   "cell_type": "code",
   "execution_count": 2,
   "id": "5f8fae97-5a24-4365-82fa-2583f8462c1e",
   "metadata": {},
   "outputs": [],
   "source": [
    "# Read dataset\n",
    "df = pd.read_csv('dataset/Online_Shopping.csv')"
   ]
  },
  {
   "cell_type": "markdown",
   "id": "05a14f33-c16f-4b95-9daf-7deeab02f575",
   "metadata": {},
   "source": [
    "## Step 1: Data Understanding\n",
    "- Dataframe __shape__ : Untuk melihat jumlah baris dan kolom\n",
    "- __head__ and __tail__ : Head untuk menampilkan 5 baris pertama, tail untuk menampilkan 5 baris terakhir\n",
    "- __dtypes__ : Untuk menampilkan tipe data dari setiap kolom\n",
    "- __describe__ : Untuk menampilkan data numerik"
   ]
  },
  {
   "cell_type": "markdown",
   "id": "631949e8-855a-4618-a975-d3207621509c",
   "metadata": {},
   "source": [
    "**Melihat jumlah baris dan kolom**"
   ]
  },
  {
   "cell_type": "code",
   "execution_count": 3,
   "id": "efb99f4b-7e68-48c8-8165-ae13bb890ef5",
   "metadata": {},
   "outputs": [
    {
     "data": {
      "text/plain": [
       "(52955, 21)"
      ]
     },
     "execution_count": 3,
     "metadata": {},
     "output_type": "execute_result"
    }
   ],
   "source": [
    "df.shape"
   ]
  },
  {
   "cell_type": "markdown",
   "id": "5c6cba6d-24c3-41d4-b97a-82261fda9ed3",
   "metadata": {},
   "source": [
    "**Menampilkan 5 baris awal**"
   ]
  },
  {
   "cell_type": "code",
   "execution_count": 4,
   "id": "d0b8ac3e-98c3-4952-bec7-0d3857099bc4",
   "metadata": {},
   "outputs": [
    {
     "data": {
      "text/html": [
       "<div>\n",
       "<style scoped>\n",
       "    .dataframe tbody tr th:only-of-type {\n",
       "        vertical-align: middle;\n",
       "    }\n",
       "\n",
       "    .dataframe tbody tr th {\n",
       "        vertical-align: top;\n",
       "    }\n",
       "\n",
       "    .dataframe thead th {\n",
       "        text-align: right;\n",
       "    }\n",
       "</style>\n",
       "<table border=\"1\" class=\"dataframe\">\n",
       "  <thead>\n",
       "    <tr style=\"text-align: right;\">\n",
       "      <th></th>\n",
       "      <th>Unnamed: 0</th>\n",
       "      <th>CustomerID</th>\n",
       "      <th>Gender</th>\n",
       "      <th>Location</th>\n",
       "      <th>Tenure_Months</th>\n",
       "      <th>Transaction_ID</th>\n",
       "      <th>Transaction_Date</th>\n",
       "      <th>Product_SKU</th>\n",
       "      <th>Product_Description</th>\n",
       "      <th>Product_Category</th>\n",
       "      <th>Quantity</th>\n",
       "      <th>Avg_Price</th>\n",
       "      <th>Delivery_Charges</th>\n",
       "      <th>Coupon_Status</th>\n",
       "      <th>GST</th>\n",
       "      <th>Date</th>\n",
       "      <th>Offline_Spend</th>\n",
       "      <th>Online_Spend</th>\n",
       "      <th>Month</th>\n",
       "      <th>Coupon_Code</th>\n",
       "      <th>Discount_pct</th>\n",
       "    </tr>\n",
       "  </thead>\n",
       "  <tbody>\n",
       "    <tr>\n",
       "      <th>0</th>\n",
       "      <td>0</td>\n",
       "      <td>17850.0</td>\n",
       "      <td>M</td>\n",
       "      <td>Chicago</td>\n",
       "      <td>12.0</td>\n",
       "      <td>16679.0</td>\n",
       "      <td>2019-01-01</td>\n",
       "      <td>GGOENEBJ079499</td>\n",
       "      <td>Nest Learning Thermostat 3rd Gen-USA - Stainle...</td>\n",
       "      <td>Nest-USA</td>\n",
       "      <td>1.0</td>\n",
       "      <td>153.71</td>\n",
       "      <td>6.5</td>\n",
       "      <td>Used</td>\n",
       "      <td>0.1</td>\n",
       "      <td>1/1/2019</td>\n",
       "      <td>4500.0</td>\n",
       "      <td>2424.5</td>\n",
       "      <td>1</td>\n",
       "      <td>ELEC10</td>\n",
       "      <td>10.0</td>\n",
       "    </tr>\n",
       "    <tr>\n",
       "      <th>1</th>\n",
       "      <td>1</td>\n",
       "      <td>17850.0</td>\n",
       "      <td>M</td>\n",
       "      <td>Chicago</td>\n",
       "      <td>12.0</td>\n",
       "      <td>16680.0</td>\n",
       "      <td>2019-01-01</td>\n",
       "      <td>GGOENEBJ079499</td>\n",
       "      <td>Nest Learning Thermostat 3rd Gen-USA - Stainle...</td>\n",
       "      <td>Nest-USA</td>\n",
       "      <td>1.0</td>\n",
       "      <td>153.71</td>\n",
       "      <td>6.5</td>\n",
       "      <td>Used</td>\n",
       "      <td>0.1</td>\n",
       "      <td>1/1/2019</td>\n",
       "      <td>4500.0</td>\n",
       "      <td>2424.5</td>\n",
       "      <td>1</td>\n",
       "      <td>ELEC10</td>\n",
       "      <td>10.0</td>\n",
       "    </tr>\n",
       "    <tr>\n",
       "      <th>2</th>\n",
       "      <td>2</td>\n",
       "      <td>17850.0</td>\n",
       "      <td>M</td>\n",
       "      <td>Chicago</td>\n",
       "      <td>12.0</td>\n",
       "      <td>16696.0</td>\n",
       "      <td>2019-01-01</td>\n",
       "      <td>GGOENEBQ078999</td>\n",
       "      <td>Nest Cam Outdoor Security Camera - USA</td>\n",
       "      <td>Nest-USA</td>\n",
       "      <td>2.0</td>\n",
       "      <td>122.77</td>\n",
       "      <td>6.5</td>\n",
       "      <td>Not Used</td>\n",
       "      <td>0.1</td>\n",
       "      <td>1/1/2019</td>\n",
       "      <td>4500.0</td>\n",
       "      <td>2424.5</td>\n",
       "      <td>1</td>\n",
       "      <td>ELEC10</td>\n",
       "      <td>10.0</td>\n",
       "    </tr>\n",
       "    <tr>\n",
       "      <th>3</th>\n",
       "      <td>3</td>\n",
       "      <td>17850.0</td>\n",
       "      <td>M</td>\n",
       "      <td>Chicago</td>\n",
       "      <td>12.0</td>\n",
       "      <td>16699.0</td>\n",
       "      <td>2019-01-01</td>\n",
       "      <td>GGOENEBQ079099</td>\n",
       "      <td>Nest Protect Smoke + CO White Battery Alarm-USA</td>\n",
       "      <td>Nest-USA</td>\n",
       "      <td>1.0</td>\n",
       "      <td>81.50</td>\n",
       "      <td>6.5</td>\n",
       "      <td>Clicked</td>\n",
       "      <td>0.1</td>\n",
       "      <td>1/1/2019</td>\n",
       "      <td>4500.0</td>\n",
       "      <td>2424.5</td>\n",
       "      <td>1</td>\n",
       "      <td>ELEC10</td>\n",
       "      <td>10.0</td>\n",
       "    </tr>\n",
       "    <tr>\n",
       "      <th>4</th>\n",
       "      <td>4</td>\n",
       "      <td>17850.0</td>\n",
       "      <td>M</td>\n",
       "      <td>Chicago</td>\n",
       "      <td>12.0</td>\n",
       "      <td>16700.0</td>\n",
       "      <td>2019-01-01</td>\n",
       "      <td>GGOENEBJ079499</td>\n",
       "      <td>Nest Learning Thermostat 3rd Gen-USA - Stainle...</td>\n",
       "      <td>Nest-USA</td>\n",
       "      <td>1.0</td>\n",
       "      <td>153.71</td>\n",
       "      <td>6.5</td>\n",
       "      <td>Clicked</td>\n",
       "      <td>0.1</td>\n",
       "      <td>1/1/2019</td>\n",
       "      <td>4500.0</td>\n",
       "      <td>2424.5</td>\n",
       "      <td>1</td>\n",
       "      <td>ELEC10</td>\n",
       "      <td>10.0</td>\n",
       "    </tr>\n",
       "  </tbody>\n",
       "</table>\n",
       "</div>"
      ],
      "text/plain": [
       "   Unnamed: 0  CustomerID Gender Location  Tenure_Months  Transaction_ID  \\\n",
       "0           0     17850.0      M  Chicago           12.0         16679.0   \n",
       "1           1     17850.0      M  Chicago           12.0         16680.0   \n",
       "2           2     17850.0      M  Chicago           12.0         16696.0   \n",
       "3           3     17850.0      M  Chicago           12.0         16699.0   \n",
       "4           4     17850.0      M  Chicago           12.0         16700.0   \n",
       "\n",
       "  Transaction_Date     Product_SKU  \\\n",
       "0       2019-01-01  GGOENEBJ079499   \n",
       "1       2019-01-01  GGOENEBJ079499   \n",
       "2       2019-01-01  GGOENEBQ078999   \n",
       "3       2019-01-01  GGOENEBQ079099   \n",
       "4       2019-01-01  GGOENEBJ079499   \n",
       "\n",
       "                                 Product_Description Product_Category  \\\n",
       "0  Nest Learning Thermostat 3rd Gen-USA - Stainle...         Nest-USA   \n",
       "1  Nest Learning Thermostat 3rd Gen-USA - Stainle...         Nest-USA   \n",
       "2             Nest Cam Outdoor Security Camera - USA         Nest-USA   \n",
       "3    Nest Protect Smoke + CO White Battery Alarm-USA         Nest-USA   \n",
       "4  Nest Learning Thermostat 3rd Gen-USA - Stainle...         Nest-USA   \n",
       "\n",
       "   Quantity  Avg_Price  Delivery_Charges Coupon_Status  GST      Date  \\\n",
       "0       1.0     153.71               6.5          Used  0.1  1/1/2019   \n",
       "1       1.0     153.71               6.5          Used  0.1  1/1/2019   \n",
       "2       2.0     122.77               6.5      Not Used  0.1  1/1/2019   \n",
       "3       1.0      81.50               6.5       Clicked  0.1  1/1/2019   \n",
       "4       1.0     153.71               6.5       Clicked  0.1  1/1/2019   \n",
       "\n",
       "   Offline_Spend  Online_Spend  Month Coupon_Code  Discount_pct  \n",
       "0         4500.0        2424.5      1      ELEC10          10.0  \n",
       "1         4500.0        2424.5      1      ELEC10          10.0  \n",
       "2         4500.0        2424.5      1      ELEC10          10.0  \n",
       "3         4500.0        2424.5      1      ELEC10          10.0  \n",
       "4         4500.0        2424.5      1      ELEC10          10.0  "
      ]
     },
     "execution_count": 4,
     "metadata": {},
     "output_type": "execute_result"
    }
   ],
   "source": [
    "df.head()"
   ]
  },
  {
   "cell_type": "markdown",
   "id": "1ef57fc3-6d59-4fe1-bce1-bc08bf8f05a4",
   "metadata": {},
   "source": [
    "**Melihat semua daftar kolom yang ada**"
   ]
  },
  {
   "cell_type": "code",
   "execution_count": 5,
   "id": "41ad2f6f-e884-4898-a0b1-4f91c20f4788",
   "metadata": {},
   "outputs": [
    {
     "data": {
      "text/plain": [
       "Index(['Unnamed: 0', 'CustomerID', 'Gender', 'Location', 'Tenure_Months',\n",
       "       'Transaction_ID', 'Transaction_Date', 'Product_SKU',\n",
       "       'Product_Description', 'Product_Category', 'Quantity', 'Avg_Price',\n",
       "       'Delivery_Charges', 'Coupon_Status', 'GST', 'Date', 'Offline_Spend',\n",
       "       'Online_Spend', 'Month', 'Coupon_Code', 'Discount_pct'],\n",
       "      dtype='object')"
      ]
     },
     "execution_count": 5,
     "metadata": {},
     "output_type": "execute_result"
    }
   ],
   "source": [
    "df.columns"
   ]
  },
  {
   "cell_type": "markdown",
   "id": "3014ce89-b705-4d99-9f53-5eb06e9a8cb7",
   "metadata": {},
   "source": [
    "**Melihat tipe data dari setiap kolom**"
   ]
  },
  {
   "cell_type": "code",
   "execution_count": 6,
   "id": "cb6c3bb7-64a9-4af2-a709-b6096968f89d",
   "metadata": {},
   "outputs": [
    {
     "data": {
      "text/plain": [
       "Unnamed: 0               int64\n",
       "CustomerID             float64\n",
       "Gender                  object\n",
       "Location                object\n",
       "Tenure_Months          float64\n",
       "Transaction_ID         float64\n",
       "Transaction_Date        object\n",
       "Product_SKU             object\n",
       "Product_Description     object\n",
       "Product_Category        object\n",
       "Quantity               float64\n",
       "Avg_Price              float64\n",
       "Delivery_Charges       float64\n",
       "Coupon_Status           object\n",
       "GST                    float64\n",
       "Date                    object\n",
       "Offline_Spend          float64\n",
       "Online_Spend           float64\n",
       "Month                    int64\n",
       "Coupon_Code             object\n",
       "Discount_pct           float64\n",
       "dtype: object"
      ]
     },
     "execution_count": 6,
     "metadata": {},
     "output_type": "execute_result"
    }
   ],
   "source": [
    "df.dtypes"
   ]
  },
  {
   "cell_type": "markdown",
   "id": "9dd7b47f-c5f7-45ef-bbd2-325dcd7a0101",
   "metadata": {},
   "source": [
    "**Melihat rincian data numerik**"
   ]
  },
  {
   "cell_type": "code",
   "execution_count": 7,
   "id": "dbf5e66c-baf8-4d33-9dba-028e01c81e25",
   "metadata": {},
   "outputs": [
    {
     "data": {
      "text/html": [
       "<div>\n",
       "<style scoped>\n",
       "    .dataframe tbody tr th:only-of-type {\n",
       "        vertical-align: middle;\n",
       "    }\n",
       "\n",
       "    .dataframe tbody tr th {\n",
       "        vertical-align: top;\n",
       "    }\n",
       "\n",
       "    .dataframe thead th {\n",
       "        text-align: right;\n",
       "    }\n",
       "</style>\n",
       "<table border=\"1\" class=\"dataframe\">\n",
       "  <thead>\n",
       "    <tr style=\"text-align: right;\">\n",
       "      <th></th>\n",
       "      <th>Unnamed: 0</th>\n",
       "      <th>CustomerID</th>\n",
       "      <th>Tenure_Months</th>\n",
       "      <th>Transaction_ID</th>\n",
       "      <th>Quantity</th>\n",
       "      <th>Avg_Price</th>\n",
       "      <th>Delivery_Charges</th>\n",
       "      <th>GST</th>\n",
       "      <th>Offline_Spend</th>\n",
       "      <th>Online_Spend</th>\n",
       "      <th>Month</th>\n",
       "      <th>Discount_pct</th>\n",
       "    </tr>\n",
       "  </thead>\n",
       "  <tbody>\n",
       "    <tr>\n",
       "      <th>count</th>\n",
       "      <td>52955.000000</td>\n",
       "      <td>52924.00000</td>\n",
       "      <td>52924.000000</td>\n",
       "      <td>52924.000000</td>\n",
       "      <td>52924.000000</td>\n",
       "      <td>52924.000000</td>\n",
       "      <td>52924.000000</td>\n",
       "      <td>52924.000000</td>\n",
       "      <td>52924.000000</td>\n",
       "      <td>52924.000000</td>\n",
       "      <td>52955.000000</td>\n",
       "      <td>52555.000000</td>\n",
       "    </tr>\n",
       "    <tr>\n",
       "      <th>mean</th>\n",
       "      <td>26477.000000</td>\n",
       "      <td>15346.70981</td>\n",
       "      <td>26.127995</td>\n",
       "      <td>32409.825675</td>\n",
       "      <td>4.497638</td>\n",
       "      <td>52.237646</td>\n",
       "      <td>10.517630</td>\n",
       "      <td>0.137462</td>\n",
       "      <td>2830.914141</td>\n",
       "      <td>1893.109119</td>\n",
       "      <td>6.652800</td>\n",
       "      <td>19.953382</td>\n",
       "    </tr>\n",
       "    <tr>\n",
       "      <th>std</th>\n",
       "      <td>15286.936089</td>\n",
       "      <td>1766.55602</td>\n",
       "      <td>13.478285</td>\n",
       "      <td>8648.668977</td>\n",
       "      <td>20.104711</td>\n",
       "      <td>64.006882</td>\n",
       "      <td>19.475613</td>\n",
       "      <td>0.045825</td>\n",
       "      <td>936.154247</td>\n",
       "      <td>807.014092</td>\n",
       "      <td>3.333664</td>\n",
       "      <td>8.127108</td>\n",
       "    </tr>\n",
       "    <tr>\n",
       "      <th>min</th>\n",
       "      <td>0.000000</td>\n",
       "      <td>12346.00000</td>\n",
       "      <td>2.000000</td>\n",
       "      <td>16679.000000</td>\n",
       "      <td>1.000000</td>\n",
       "      <td>0.390000</td>\n",
       "      <td>0.000000</td>\n",
       "      <td>0.050000</td>\n",
       "      <td>500.000000</td>\n",
       "      <td>320.250000</td>\n",
       "      <td>1.000000</td>\n",
       "      <td>10.000000</td>\n",
       "    </tr>\n",
       "    <tr>\n",
       "      <th>25%</th>\n",
       "      <td>13238.500000</td>\n",
       "      <td>13869.00000</td>\n",
       "      <td>15.000000</td>\n",
       "      <td>25384.000000</td>\n",
       "      <td>1.000000</td>\n",
       "      <td>5.700000</td>\n",
       "      <td>6.000000</td>\n",
       "      <td>0.100000</td>\n",
       "      <td>2500.000000</td>\n",
       "      <td>1252.630000</td>\n",
       "      <td>4.000000</td>\n",
       "      <td>10.000000</td>\n",
       "    </tr>\n",
       "    <tr>\n",
       "      <th>50%</th>\n",
       "      <td>26477.000000</td>\n",
       "      <td>15311.00000</td>\n",
       "      <td>27.000000</td>\n",
       "      <td>32625.500000</td>\n",
       "      <td>1.000000</td>\n",
       "      <td>16.990000</td>\n",
       "      <td>6.000000</td>\n",
       "      <td>0.180000</td>\n",
       "      <td>3000.000000</td>\n",
       "      <td>1837.870000</td>\n",
       "      <td>7.000000</td>\n",
       "      <td>20.000000</td>\n",
       "    </tr>\n",
       "    <tr>\n",
       "      <th>75%</th>\n",
       "      <td>39715.500000</td>\n",
       "      <td>16996.25000</td>\n",
       "      <td>37.000000</td>\n",
       "      <td>39126.250000</td>\n",
       "      <td>2.000000</td>\n",
       "      <td>102.130000</td>\n",
       "      <td>6.500000</td>\n",
       "      <td>0.180000</td>\n",
       "      <td>3500.000000</td>\n",
       "      <td>2425.350000</td>\n",
       "      <td>9.000000</td>\n",
       "      <td>30.000000</td>\n",
       "    </tr>\n",
       "    <tr>\n",
       "      <th>max</th>\n",
       "      <td>52954.000000</td>\n",
       "      <td>18283.00000</td>\n",
       "      <td>50.000000</td>\n",
       "      <td>48497.000000</td>\n",
       "      <td>900.000000</td>\n",
       "      <td>355.740000</td>\n",
       "      <td>521.360000</td>\n",
       "      <td>0.180000</td>\n",
       "      <td>5000.000000</td>\n",
       "      <td>4556.930000</td>\n",
       "      <td>12.000000</td>\n",
       "      <td>30.000000</td>\n",
       "    </tr>\n",
       "  </tbody>\n",
       "</table>\n",
       "</div>"
      ],
      "text/plain": [
       "         Unnamed: 0   CustomerID  Tenure_Months  Transaction_ID      Quantity  \\\n",
       "count  52955.000000  52924.00000   52924.000000    52924.000000  52924.000000   \n",
       "mean   26477.000000  15346.70981      26.127995    32409.825675      4.497638   \n",
       "std    15286.936089   1766.55602      13.478285     8648.668977     20.104711   \n",
       "min        0.000000  12346.00000       2.000000    16679.000000      1.000000   \n",
       "25%    13238.500000  13869.00000      15.000000    25384.000000      1.000000   \n",
       "50%    26477.000000  15311.00000      27.000000    32625.500000      1.000000   \n",
       "75%    39715.500000  16996.25000      37.000000    39126.250000      2.000000   \n",
       "max    52954.000000  18283.00000      50.000000    48497.000000    900.000000   \n",
       "\n",
       "          Avg_Price  Delivery_Charges           GST  Offline_Spend  \\\n",
       "count  52924.000000      52924.000000  52924.000000   52924.000000   \n",
       "mean      52.237646         10.517630      0.137462    2830.914141   \n",
       "std       64.006882         19.475613      0.045825     936.154247   \n",
       "min        0.390000          0.000000      0.050000     500.000000   \n",
       "25%        5.700000          6.000000      0.100000    2500.000000   \n",
       "50%       16.990000          6.000000      0.180000    3000.000000   \n",
       "75%      102.130000          6.500000      0.180000    3500.000000   \n",
       "max      355.740000        521.360000      0.180000    5000.000000   \n",
       "\n",
       "       Online_Spend         Month  Discount_pct  \n",
       "count  52924.000000  52955.000000  52555.000000  \n",
       "mean    1893.109119      6.652800     19.953382  \n",
       "std      807.014092      3.333664      8.127108  \n",
       "min      320.250000      1.000000     10.000000  \n",
       "25%     1252.630000      4.000000     10.000000  \n",
       "50%     1837.870000      7.000000     20.000000  \n",
       "75%     2425.350000      9.000000     30.000000  \n",
       "max     4556.930000     12.000000     30.000000  "
      ]
     },
     "execution_count": 7,
     "metadata": {},
     "output_type": "execute_result"
    }
   ],
   "source": [
    "df.describe()"
   ]
  },
  {
   "cell_type": "markdown",
   "id": "4f7d4fd1-a3d1-477c-bac0-ba9f5782e4c8",
   "metadata": {},
   "source": [
    "## Step 2: Data Preperation\n",
    "Mempersiapkan dan membersihkan data sebelum masuk ke tahap analisis:\n",
    "- Menghapus kolom dan baris yang tidak relevan\n",
    "- Mengidentifikasi kolom yang duplikat\n",
    "- Mengganti Nama Kolom\n",
    "- Pembuatan Fitur"
   ]
  },
  {
   "cell_type": "code",
   "execution_count": 8,
   "id": "030bc0cd-083a-40fe-8a08-55e761733ae3",
   "metadata": {},
   "outputs": [
    {
     "data": {
      "text/html": [
       "<div>\n",
       "<style scoped>\n",
       "    .dataframe tbody tr th:only-of-type {\n",
       "        vertical-align: middle;\n",
       "    }\n",
       "\n",
       "    .dataframe tbody tr th {\n",
       "        vertical-align: top;\n",
       "    }\n",
       "\n",
       "    .dataframe thead th {\n",
       "        text-align: right;\n",
       "    }\n",
       "</style>\n",
       "<table border=\"1\" class=\"dataframe\">\n",
       "  <thead>\n",
       "    <tr style=\"text-align: right;\">\n",
       "      <th></th>\n",
       "      <th>Unnamed: 0</th>\n",
       "      <th>CustomerID</th>\n",
       "      <th>Gender</th>\n",
       "      <th>Location</th>\n",
       "      <th>Tenure_Months</th>\n",
       "      <th>Transaction_ID</th>\n",
       "      <th>Transaction_Date</th>\n",
       "      <th>Product_SKU</th>\n",
       "      <th>Product_Description</th>\n",
       "      <th>Product_Category</th>\n",
       "      <th>Quantity</th>\n",
       "      <th>Avg_Price</th>\n",
       "      <th>Delivery_Charges</th>\n",
       "      <th>Coupon_Status</th>\n",
       "      <th>GST</th>\n",
       "      <th>Date</th>\n",
       "      <th>Offline_Spend</th>\n",
       "      <th>Online_Spend</th>\n",
       "      <th>Month</th>\n",
       "      <th>Coupon_Code</th>\n",
       "      <th>Discount_pct</th>\n",
       "    </tr>\n",
       "  </thead>\n",
       "  <tbody>\n",
       "    <tr>\n",
       "      <th>0</th>\n",
       "      <td>0</td>\n",
       "      <td>17850.0</td>\n",
       "      <td>M</td>\n",
       "      <td>Chicago</td>\n",
       "      <td>12.0</td>\n",
       "      <td>16679.0</td>\n",
       "      <td>2019-01-01</td>\n",
       "      <td>GGOENEBJ079499</td>\n",
       "      <td>Nest Learning Thermostat 3rd Gen-USA - Stainle...</td>\n",
       "      <td>Nest-USA</td>\n",
       "      <td>1.0</td>\n",
       "      <td>153.71</td>\n",
       "      <td>6.50</td>\n",
       "      <td>Used</td>\n",
       "      <td>0.1</td>\n",
       "      <td>1/1/2019</td>\n",
       "      <td>4500.0</td>\n",
       "      <td>2424.5</td>\n",
       "      <td>1</td>\n",
       "      <td>ELEC10</td>\n",
       "      <td>10.0</td>\n",
       "    </tr>\n",
       "    <tr>\n",
       "      <th>1</th>\n",
       "      <td>1</td>\n",
       "      <td>17850.0</td>\n",
       "      <td>M</td>\n",
       "      <td>Chicago</td>\n",
       "      <td>12.0</td>\n",
       "      <td>16680.0</td>\n",
       "      <td>2019-01-01</td>\n",
       "      <td>GGOENEBJ079499</td>\n",
       "      <td>Nest Learning Thermostat 3rd Gen-USA - Stainle...</td>\n",
       "      <td>Nest-USA</td>\n",
       "      <td>1.0</td>\n",
       "      <td>153.71</td>\n",
       "      <td>6.50</td>\n",
       "      <td>Used</td>\n",
       "      <td>0.1</td>\n",
       "      <td>1/1/2019</td>\n",
       "      <td>4500.0</td>\n",
       "      <td>2424.5</td>\n",
       "      <td>1</td>\n",
       "      <td>ELEC10</td>\n",
       "      <td>10.0</td>\n",
       "    </tr>\n",
       "    <tr>\n",
       "      <th>2</th>\n",
       "      <td>2</td>\n",
       "      <td>17850.0</td>\n",
       "      <td>M</td>\n",
       "      <td>Chicago</td>\n",
       "      <td>12.0</td>\n",
       "      <td>16696.0</td>\n",
       "      <td>2019-01-01</td>\n",
       "      <td>GGOENEBQ078999</td>\n",
       "      <td>Nest Cam Outdoor Security Camera - USA</td>\n",
       "      <td>Nest-USA</td>\n",
       "      <td>2.0</td>\n",
       "      <td>122.77</td>\n",
       "      <td>6.50</td>\n",
       "      <td>Not Used</td>\n",
       "      <td>0.1</td>\n",
       "      <td>1/1/2019</td>\n",
       "      <td>4500.0</td>\n",
       "      <td>2424.5</td>\n",
       "      <td>1</td>\n",
       "      <td>ELEC10</td>\n",
       "      <td>10.0</td>\n",
       "    </tr>\n",
       "    <tr>\n",
       "      <th>3</th>\n",
       "      <td>3</td>\n",
       "      <td>17850.0</td>\n",
       "      <td>M</td>\n",
       "      <td>Chicago</td>\n",
       "      <td>12.0</td>\n",
       "      <td>16699.0</td>\n",
       "      <td>2019-01-01</td>\n",
       "      <td>GGOENEBQ079099</td>\n",
       "      <td>Nest Protect Smoke + CO White Battery Alarm-USA</td>\n",
       "      <td>Nest-USA</td>\n",
       "      <td>1.0</td>\n",
       "      <td>81.50</td>\n",
       "      <td>6.50</td>\n",
       "      <td>Clicked</td>\n",
       "      <td>0.1</td>\n",
       "      <td>1/1/2019</td>\n",
       "      <td>4500.0</td>\n",
       "      <td>2424.5</td>\n",
       "      <td>1</td>\n",
       "      <td>ELEC10</td>\n",
       "      <td>10.0</td>\n",
       "    </tr>\n",
       "    <tr>\n",
       "      <th>4</th>\n",
       "      <td>4</td>\n",
       "      <td>17850.0</td>\n",
       "      <td>M</td>\n",
       "      <td>Chicago</td>\n",
       "      <td>12.0</td>\n",
       "      <td>16700.0</td>\n",
       "      <td>2019-01-01</td>\n",
       "      <td>GGOENEBJ079499</td>\n",
       "      <td>Nest Learning Thermostat 3rd Gen-USA - Stainle...</td>\n",
       "      <td>Nest-USA</td>\n",
       "      <td>1.0</td>\n",
       "      <td>153.71</td>\n",
       "      <td>6.50</td>\n",
       "      <td>Clicked</td>\n",
       "      <td>0.1</td>\n",
       "      <td>1/1/2019</td>\n",
       "      <td>4500.0</td>\n",
       "      <td>2424.5</td>\n",
       "      <td>1</td>\n",
       "      <td>ELEC10</td>\n",
       "      <td>10.0</td>\n",
       "    </tr>\n",
       "    <tr>\n",
       "      <th>5</th>\n",
       "      <td>5</td>\n",
       "      <td>17850.0</td>\n",
       "      <td>M</td>\n",
       "      <td>Chicago</td>\n",
       "      <td>12.0</td>\n",
       "      <td>16701.0</td>\n",
       "      <td>2019-01-01</td>\n",
       "      <td>GGOENEBJ079499</td>\n",
       "      <td>Nest Learning Thermostat 3rd Gen-USA - Stainle...</td>\n",
       "      <td>Nest-USA</td>\n",
       "      <td>1.0</td>\n",
       "      <td>153.71</td>\n",
       "      <td>6.50</td>\n",
       "      <td>Clicked</td>\n",
       "      <td>0.1</td>\n",
       "      <td>1/1/2019</td>\n",
       "      <td>4500.0</td>\n",
       "      <td>2424.5</td>\n",
       "      <td>1</td>\n",
       "      <td>ELEC10</td>\n",
       "      <td>10.0</td>\n",
       "    </tr>\n",
       "    <tr>\n",
       "      <th>6</th>\n",
       "      <td>6</td>\n",
       "      <td>17850.0</td>\n",
       "      <td>M</td>\n",
       "      <td>Chicago</td>\n",
       "      <td>12.0</td>\n",
       "      <td>16702.0</td>\n",
       "      <td>2019-01-01</td>\n",
       "      <td>GGOENEBJ079499</td>\n",
       "      <td>Nest Learning Thermostat 3rd Gen-USA - Stainle...</td>\n",
       "      <td>Nest-USA</td>\n",
       "      <td>2.0</td>\n",
       "      <td>153.71</td>\n",
       "      <td>6.50</td>\n",
       "      <td>Clicked</td>\n",
       "      <td>0.1</td>\n",
       "      <td>1/1/2019</td>\n",
       "      <td>4500.0</td>\n",
       "      <td>2424.5</td>\n",
       "      <td>1</td>\n",
       "      <td>ELEC10</td>\n",
       "      <td>10.0</td>\n",
       "    </tr>\n",
       "    <tr>\n",
       "      <th>7</th>\n",
       "      <td>7</td>\n",
       "      <td>17850.0</td>\n",
       "      <td>M</td>\n",
       "      <td>Chicago</td>\n",
       "      <td>12.0</td>\n",
       "      <td>16703.0</td>\n",
       "      <td>2019-01-01</td>\n",
       "      <td>GGOENEBQ079099</td>\n",
       "      <td>Nest Protect Smoke + CO White Battery Alarm-USA</td>\n",
       "      <td>Nest-USA</td>\n",
       "      <td>2.0</td>\n",
       "      <td>81.50</td>\n",
       "      <td>6.50</td>\n",
       "      <td>Not Used</td>\n",
       "      <td>0.1</td>\n",
       "      <td>1/1/2019</td>\n",
       "      <td>4500.0</td>\n",
       "      <td>2424.5</td>\n",
       "      <td>1</td>\n",
       "      <td>ELEC10</td>\n",
       "      <td>10.0</td>\n",
       "    </tr>\n",
       "    <tr>\n",
       "      <th>8</th>\n",
       "      <td>8</td>\n",
       "      <td>17850.0</td>\n",
       "      <td>M</td>\n",
       "      <td>Chicago</td>\n",
       "      <td>12.0</td>\n",
       "      <td>16704.0</td>\n",
       "      <td>2019-01-01</td>\n",
       "      <td>GGOENEBJ079499</td>\n",
       "      <td>Nest Learning Thermostat 3rd Gen-USA - Stainle...</td>\n",
       "      <td>Nest-USA</td>\n",
       "      <td>1.0</td>\n",
       "      <td>256.88</td>\n",
       "      <td>6.50</td>\n",
       "      <td>Used</td>\n",
       "      <td>0.1</td>\n",
       "      <td>1/1/2019</td>\n",
       "      <td>4500.0</td>\n",
       "      <td>2424.5</td>\n",
       "      <td>1</td>\n",
       "      <td>ELEC10</td>\n",
       "      <td>10.0</td>\n",
       "    </tr>\n",
       "    <tr>\n",
       "      <th>9</th>\n",
       "      <td>9</td>\n",
       "      <td>17850.0</td>\n",
       "      <td>M</td>\n",
       "      <td>Chicago</td>\n",
       "      <td>12.0</td>\n",
       "      <td>16710.0</td>\n",
       "      <td>2019-01-01</td>\n",
       "      <td>GGOENEBJ079499</td>\n",
       "      <td>Nest Learning Thermostat 3rd Gen-USA - Stainle...</td>\n",
       "      <td>Nest-USA</td>\n",
       "      <td>1.0</td>\n",
       "      <td>153.71</td>\n",
       "      <td>28.78</td>\n",
       "      <td>Clicked</td>\n",
       "      <td>0.1</td>\n",
       "      <td>1/1/2019</td>\n",
       "      <td>4500.0</td>\n",
       "      <td>2424.5</td>\n",
       "      <td>1</td>\n",
       "      <td>ELEC10</td>\n",
       "      <td>10.0</td>\n",
       "    </tr>\n",
       "  </tbody>\n",
       "</table>\n",
       "</div>"
      ],
      "text/plain": [
       "   Unnamed: 0  CustomerID Gender Location  Tenure_Months  Transaction_ID  \\\n",
       "0           0     17850.0      M  Chicago           12.0         16679.0   \n",
       "1           1     17850.0      M  Chicago           12.0         16680.0   \n",
       "2           2     17850.0      M  Chicago           12.0         16696.0   \n",
       "3           3     17850.0      M  Chicago           12.0         16699.0   \n",
       "4           4     17850.0      M  Chicago           12.0         16700.0   \n",
       "5           5     17850.0      M  Chicago           12.0         16701.0   \n",
       "6           6     17850.0      M  Chicago           12.0         16702.0   \n",
       "7           7     17850.0      M  Chicago           12.0         16703.0   \n",
       "8           8     17850.0      M  Chicago           12.0         16704.0   \n",
       "9           9     17850.0      M  Chicago           12.0         16710.0   \n",
       "\n",
       "  Transaction_Date     Product_SKU  \\\n",
       "0       2019-01-01  GGOENEBJ079499   \n",
       "1       2019-01-01  GGOENEBJ079499   \n",
       "2       2019-01-01  GGOENEBQ078999   \n",
       "3       2019-01-01  GGOENEBQ079099   \n",
       "4       2019-01-01  GGOENEBJ079499   \n",
       "5       2019-01-01  GGOENEBJ079499   \n",
       "6       2019-01-01  GGOENEBJ079499   \n",
       "7       2019-01-01  GGOENEBQ079099   \n",
       "8       2019-01-01  GGOENEBJ079499   \n",
       "9       2019-01-01  GGOENEBJ079499   \n",
       "\n",
       "                                 Product_Description Product_Category  \\\n",
       "0  Nest Learning Thermostat 3rd Gen-USA - Stainle...         Nest-USA   \n",
       "1  Nest Learning Thermostat 3rd Gen-USA - Stainle...         Nest-USA   \n",
       "2             Nest Cam Outdoor Security Camera - USA         Nest-USA   \n",
       "3    Nest Protect Smoke + CO White Battery Alarm-USA         Nest-USA   \n",
       "4  Nest Learning Thermostat 3rd Gen-USA - Stainle...         Nest-USA   \n",
       "5  Nest Learning Thermostat 3rd Gen-USA - Stainle...         Nest-USA   \n",
       "6  Nest Learning Thermostat 3rd Gen-USA - Stainle...         Nest-USA   \n",
       "7    Nest Protect Smoke + CO White Battery Alarm-USA         Nest-USA   \n",
       "8  Nest Learning Thermostat 3rd Gen-USA - Stainle...         Nest-USA   \n",
       "9  Nest Learning Thermostat 3rd Gen-USA - Stainle...         Nest-USA   \n",
       "\n",
       "   Quantity  Avg_Price  Delivery_Charges Coupon_Status  GST      Date  \\\n",
       "0       1.0     153.71              6.50          Used  0.1  1/1/2019   \n",
       "1       1.0     153.71              6.50          Used  0.1  1/1/2019   \n",
       "2       2.0     122.77              6.50      Not Used  0.1  1/1/2019   \n",
       "3       1.0      81.50              6.50       Clicked  0.1  1/1/2019   \n",
       "4       1.0     153.71              6.50       Clicked  0.1  1/1/2019   \n",
       "5       1.0     153.71              6.50       Clicked  0.1  1/1/2019   \n",
       "6       2.0     153.71              6.50       Clicked  0.1  1/1/2019   \n",
       "7       2.0      81.50              6.50      Not Used  0.1  1/1/2019   \n",
       "8       1.0     256.88              6.50          Used  0.1  1/1/2019   \n",
       "9       1.0     153.71             28.78       Clicked  0.1  1/1/2019   \n",
       "\n",
       "   Offline_Spend  Online_Spend  Month Coupon_Code  Discount_pct  \n",
       "0         4500.0        2424.5      1      ELEC10          10.0  \n",
       "1         4500.0        2424.5      1      ELEC10          10.0  \n",
       "2         4500.0        2424.5      1      ELEC10          10.0  \n",
       "3         4500.0        2424.5      1      ELEC10          10.0  \n",
       "4         4500.0        2424.5      1      ELEC10          10.0  \n",
       "5         4500.0        2424.5      1      ELEC10          10.0  \n",
       "6         4500.0        2424.5      1      ELEC10          10.0  \n",
       "7         4500.0        2424.5      1      ELEC10          10.0  \n",
       "8         4500.0        2424.5      1      ELEC10          10.0  \n",
       "9         4500.0        2424.5      1      ELEC10          10.0  "
      ]
     },
     "execution_count": 8,
     "metadata": {},
     "output_type": "execute_result"
    }
   ],
   "source": [
    "df.head(10)"
   ]
  },
  {
   "cell_type": "markdown",
   "id": "3ecce60c-0d97-4ea3-a103-706ba53f1c78",
   "metadata": {},
   "source": [
    "**Mengecek missing values**"
   ]
  },
  {
   "cell_type": "code",
   "execution_count": 9,
   "id": "d0f0aa0e-4006-4b2b-8ebc-92dfb99bc0a2",
   "metadata": {},
   "outputs": [
    {
     "data": {
      "text/plain": [
       "Unnamed: 0               0\n",
       "CustomerID              31\n",
       "Gender                  31\n",
       "Location                31\n",
       "Tenure_Months           31\n",
       "Transaction_ID          31\n",
       "Transaction_Date        31\n",
       "Product_SKU             31\n",
       "Product_Description     31\n",
       "Product_Category         0\n",
       "Quantity                31\n",
       "Avg_Price               31\n",
       "Delivery_Charges        31\n",
       "Coupon_Status           31\n",
       "GST                     31\n",
       "Date                    31\n",
       "Offline_Spend           31\n",
       "Online_Spend            31\n",
       "Month                    0\n",
       "Coupon_Code            400\n",
       "Discount_pct           400\n",
       "dtype: int64"
      ]
     },
     "execution_count": 9,
     "metadata": {},
     "output_type": "execute_result"
    }
   ],
   "source": [
    "df.isna().sum()"
   ]
  },
  {
   "cell_type": "markdown",
   "id": "d674bafd-6adf-48d4-ab68-77f0ca0888b7",
   "metadata": {},
   "source": [
    "**Melihat Info Data**"
   ]
  },
  {
   "cell_type": "code",
   "execution_count": 10,
   "id": "d860c220-1215-4f3a-8171-b45660d96d95",
   "metadata": {},
   "outputs": [
    {
     "name": "stdout",
     "output_type": "stream",
     "text": [
      "<class 'pandas.core.frame.DataFrame'>\n",
      "RangeIndex: 52955 entries, 0 to 52954\n",
      "Data columns (total 21 columns):\n",
      " #   Column               Non-Null Count  Dtype  \n",
      "---  ------               --------------  -----  \n",
      " 0   Unnamed: 0           52955 non-null  int64  \n",
      " 1   CustomerID           52924 non-null  float64\n",
      " 2   Gender               52924 non-null  object \n",
      " 3   Location             52924 non-null  object \n",
      " 4   Tenure_Months        52924 non-null  float64\n",
      " 5   Transaction_ID       52924 non-null  float64\n",
      " 6   Transaction_Date     52924 non-null  object \n",
      " 7   Product_SKU          52924 non-null  object \n",
      " 8   Product_Description  52924 non-null  object \n",
      " 9   Product_Category     52955 non-null  object \n",
      " 10  Quantity             52924 non-null  float64\n",
      " 11  Avg_Price            52924 non-null  float64\n",
      " 12  Delivery_Charges     52924 non-null  float64\n",
      " 13  Coupon_Status        52924 non-null  object \n",
      " 14  GST                  52924 non-null  float64\n",
      " 15  Date                 52924 non-null  object \n",
      " 16  Offline_Spend        52924 non-null  float64\n",
      " 17  Online_Spend         52924 non-null  float64\n",
      " 18  Month                52955 non-null  int64  \n",
      " 19  Coupon_Code          52555 non-null  object \n",
      " 20  Discount_pct         52555 non-null  float64\n",
      "dtypes: float64(10), int64(2), object(9)\n",
      "memory usage: 8.5+ MB\n"
     ]
    }
   ],
   "source": [
    "df.info()"
   ]
  },
  {
   "cell_type": "markdown",
   "id": "d6ef2c10-aee1-4d65-a4c8-978aba698e27",
   "metadata": {},
   "source": [
    "**Melihat Baris yang Duplikat**"
   ]
  },
  {
   "cell_type": "code",
   "execution_count": 11,
   "id": "c990f002-f873-4a13-8e71-c91336124308",
   "metadata": {},
   "outputs": [
    {
     "data": {
      "text/plain": [
       "np.False_"
      ]
     },
     "execution_count": 11,
     "metadata": {},
     "output_type": "execute_result"
    }
   ],
   "source": [
    "df.duplicated().any()"
   ]
  },
  {
   "cell_type": "markdown",
   "id": "bb830236-391f-4caf-842b-b1035dbf2a51",
   "metadata": {},
   "source": [
    "**Melihat Informasi Data Numerik**"
   ]
  },
  {
   "cell_type": "code",
   "execution_count": 12,
   "id": "32f14976-e9be-4e17-8925-9fcb3bbdcb57",
   "metadata": {},
   "outputs": [
    {
     "data": {
      "text/html": [
       "<div>\n",
       "<style scoped>\n",
       "    .dataframe tbody tr th:only-of-type {\n",
       "        vertical-align: middle;\n",
       "    }\n",
       "\n",
       "    .dataframe tbody tr th {\n",
       "        vertical-align: top;\n",
       "    }\n",
       "\n",
       "    .dataframe thead th {\n",
       "        text-align: right;\n",
       "    }\n",
       "</style>\n",
       "<table border=\"1\" class=\"dataframe\">\n",
       "  <thead>\n",
       "    <tr style=\"text-align: right;\">\n",
       "      <th></th>\n",
       "      <th>Unnamed: 0</th>\n",
       "      <th>CustomerID</th>\n",
       "      <th>Tenure_Months</th>\n",
       "      <th>Transaction_ID</th>\n",
       "      <th>Quantity</th>\n",
       "      <th>Avg_Price</th>\n",
       "      <th>Delivery_Charges</th>\n",
       "      <th>GST</th>\n",
       "      <th>Offline_Spend</th>\n",
       "      <th>Online_Spend</th>\n",
       "      <th>Month</th>\n",
       "      <th>Discount_pct</th>\n",
       "    </tr>\n",
       "  </thead>\n",
       "  <tbody>\n",
       "    <tr>\n",
       "      <th>count</th>\n",
       "      <td>52955.000000</td>\n",
       "      <td>52924.00000</td>\n",
       "      <td>52924.000000</td>\n",
       "      <td>52924.000000</td>\n",
       "      <td>52924.000000</td>\n",
       "      <td>52924.000000</td>\n",
       "      <td>52924.000000</td>\n",
       "      <td>52924.000000</td>\n",
       "      <td>52924.000000</td>\n",
       "      <td>52924.000000</td>\n",
       "      <td>52955.000000</td>\n",
       "      <td>52555.000000</td>\n",
       "    </tr>\n",
       "    <tr>\n",
       "      <th>mean</th>\n",
       "      <td>26477.000000</td>\n",
       "      <td>15346.70981</td>\n",
       "      <td>26.127995</td>\n",
       "      <td>32409.825675</td>\n",
       "      <td>4.497638</td>\n",
       "      <td>52.237646</td>\n",
       "      <td>10.517630</td>\n",
       "      <td>0.137462</td>\n",
       "      <td>2830.914141</td>\n",
       "      <td>1893.109119</td>\n",
       "      <td>6.652800</td>\n",
       "      <td>19.953382</td>\n",
       "    </tr>\n",
       "    <tr>\n",
       "      <th>std</th>\n",
       "      <td>15286.936089</td>\n",
       "      <td>1766.55602</td>\n",
       "      <td>13.478285</td>\n",
       "      <td>8648.668977</td>\n",
       "      <td>20.104711</td>\n",
       "      <td>64.006882</td>\n",
       "      <td>19.475613</td>\n",
       "      <td>0.045825</td>\n",
       "      <td>936.154247</td>\n",
       "      <td>807.014092</td>\n",
       "      <td>3.333664</td>\n",
       "      <td>8.127108</td>\n",
       "    </tr>\n",
       "    <tr>\n",
       "      <th>min</th>\n",
       "      <td>0.000000</td>\n",
       "      <td>12346.00000</td>\n",
       "      <td>2.000000</td>\n",
       "      <td>16679.000000</td>\n",
       "      <td>1.000000</td>\n",
       "      <td>0.390000</td>\n",
       "      <td>0.000000</td>\n",
       "      <td>0.050000</td>\n",
       "      <td>500.000000</td>\n",
       "      <td>320.250000</td>\n",
       "      <td>1.000000</td>\n",
       "      <td>10.000000</td>\n",
       "    </tr>\n",
       "    <tr>\n",
       "      <th>25%</th>\n",
       "      <td>13238.500000</td>\n",
       "      <td>13869.00000</td>\n",
       "      <td>15.000000</td>\n",
       "      <td>25384.000000</td>\n",
       "      <td>1.000000</td>\n",
       "      <td>5.700000</td>\n",
       "      <td>6.000000</td>\n",
       "      <td>0.100000</td>\n",
       "      <td>2500.000000</td>\n",
       "      <td>1252.630000</td>\n",
       "      <td>4.000000</td>\n",
       "      <td>10.000000</td>\n",
       "    </tr>\n",
       "    <tr>\n",
       "      <th>50%</th>\n",
       "      <td>26477.000000</td>\n",
       "      <td>15311.00000</td>\n",
       "      <td>27.000000</td>\n",
       "      <td>32625.500000</td>\n",
       "      <td>1.000000</td>\n",
       "      <td>16.990000</td>\n",
       "      <td>6.000000</td>\n",
       "      <td>0.180000</td>\n",
       "      <td>3000.000000</td>\n",
       "      <td>1837.870000</td>\n",
       "      <td>7.000000</td>\n",
       "      <td>20.000000</td>\n",
       "    </tr>\n",
       "    <tr>\n",
       "      <th>75%</th>\n",
       "      <td>39715.500000</td>\n",
       "      <td>16996.25000</td>\n",
       "      <td>37.000000</td>\n",
       "      <td>39126.250000</td>\n",
       "      <td>2.000000</td>\n",
       "      <td>102.130000</td>\n",
       "      <td>6.500000</td>\n",
       "      <td>0.180000</td>\n",
       "      <td>3500.000000</td>\n",
       "      <td>2425.350000</td>\n",
       "      <td>9.000000</td>\n",
       "      <td>30.000000</td>\n",
       "    </tr>\n",
       "    <tr>\n",
       "      <th>max</th>\n",
       "      <td>52954.000000</td>\n",
       "      <td>18283.00000</td>\n",
       "      <td>50.000000</td>\n",
       "      <td>48497.000000</td>\n",
       "      <td>900.000000</td>\n",
       "      <td>355.740000</td>\n",
       "      <td>521.360000</td>\n",
       "      <td>0.180000</td>\n",
       "      <td>5000.000000</td>\n",
       "      <td>4556.930000</td>\n",
       "      <td>12.000000</td>\n",
       "      <td>30.000000</td>\n",
       "    </tr>\n",
       "  </tbody>\n",
       "</table>\n",
       "</div>"
      ],
      "text/plain": [
       "         Unnamed: 0   CustomerID  Tenure_Months  Transaction_ID      Quantity  \\\n",
       "count  52955.000000  52924.00000   52924.000000    52924.000000  52924.000000   \n",
       "mean   26477.000000  15346.70981      26.127995    32409.825675      4.497638   \n",
       "std    15286.936089   1766.55602      13.478285     8648.668977     20.104711   \n",
       "min        0.000000  12346.00000       2.000000    16679.000000      1.000000   \n",
       "25%    13238.500000  13869.00000      15.000000    25384.000000      1.000000   \n",
       "50%    26477.000000  15311.00000      27.000000    32625.500000      1.000000   \n",
       "75%    39715.500000  16996.25000      37.000000    39126.250000      2.000000   \n",
       "max    52954.000000  18283.00000      50.000000    48497.000000    900.000000   \n",
       "\n",
       "          Avg_Price  Delivery_Charges           GST  Offline_Spend  \\\n",
       "count  52924.000000      52924.000000  52924.000000   52924.000000   \n",
       "mean      52.237646         10.517630      0.137462    2830.914141   \n",
       "std       64.006882         19.475613      0.045825     936.154247   \n",
       "min        0.390000          0.000000      0.050000     500.000000   \n",
       "25%        5.700000          6.000000      0.100000    2500.000000   \n",
       "50%       16.990000          6.000000      0.180000    3000.000000   \n",
       "75%      102.130000          6.500000      0.180000    3500.000000   \n",
       "max      355.740000        521.360000      0.180000    5000.000000   \n",
       "\n",
       "       Online_Spend         Month  Discount_pct  \n",
       "count  52924.000000  52955.000000  52555.000000  \n",
       "mean    1893.109119      6.652800     19.953382  \n",
       "std      807.014092      3.333664      8.127108  \n",
       "min      320.250000      1.000000     10.000000  \n",
       "25%     1252.630000      4.000000     10.000000  \n",
       "50%     1837.870000      7.000000     20.000000  \n",
       "75%     2425.350000      9.000000     30.000000  \n",
       "max     4556.930000     12.000000     30.000000  "
      ]
     },
     "execution_count": 12,
     "metadata": {},
     "output_type": "execute_result"
    }
   ],
   "source": [
    "df.describe()"
   ]
  },
  {
   "cell_type": "markdown",
   "id": "27ca2737-1a8d-45b3-b6dd-4452f4e6b91c",
   "metadata": {},
   "source": [
    "**Melihat info data kategori**"
   ]
  },
  {
   "cell_type": "code",
   "execution_count": 13,
   "id": "056c9546-0e9f-4eb4-aed7-840d597da430",
   "metadata": {},
   "outputs": [
    {
     "data": {
      "text/html": [
       "<div>\n",
       "<style scoped>\n",
       "    .dataframe tbody tr th:only-of-type {\n",
       "        vertical-align: middle;\n",
       "    }\n",
       "\n",
       "    .dataframe tbody tr th {\n",
       "        vertical-align: top;\n",
       "    }\n",
       "\n",
       "    .dataframe thead th {\n",
       "        text-align: right;\n",
       "    }\n",
       "</style>\n",
       "<table border=\"1\" class=\"dataframe\">\n",
       "  <thead>\n",
       "    <tr style=\"text-align: right;\">\n",
       "      <th></th>\n",
       "      <th>Gender</th>\n",
       "      <th>Location</th>\n",
       "      <th>Transaction_Date</th>\n",
       "      <th>Product_SKU</th>\n",
       "      <th>Product_Description</th>\n",
       "      <th>Product_Category</th>\n",
       "      <th>Coupon_Status</th>\n",
       "      <th>Date</th>\n",
       "      <th>Coupon_Code</th>\n",
       "    </tr>\n",
       "  </thead>\n",
       "  <tbody>\n",
       "    <tr>\n",
       "      <th>count</th>\n",
       "      <td>52924</td>\n",
       "      <td>52924</td>\n",
       "      <td>52924</td>\n",
       "      <td>52924</td>\n",
       "      <td>52924</td>\n",
       "      <td>52955</td>\n",
       "      <td>52924</td>\n",
       "      <td>52924</td>\n",
       "      <td>52555</td>\n",
       "    </tr>\n",
       "    <tr>\n",
       "      <th>unique</th>\n",
       "      <td>2</td>\n",
       "      <td>5</td>\n",
       "      <td>365</td>\n",
       "      <td>1145</td>\n",
       "      <td>404</td>\n",
       "      <td>21</td>\n",
       "      <td>3</td>\n",
       "      <td>365</td>\n",
       "      <td>48</td>\n",
       "    </tr>\n",
       "    <tr>\n",
       "      <th>top</th>\n",
       "      <td>F</td>\n",
       "      <td>Chicago</td>\n",
       "      <td>2019-11-27</td>\n",
       "      <td>GGOENEBJ079499</td>\n",
       "      <td>Nest Learning Thermostat 3rd Gen-USA - Stainle...</td>\n",
       "      <td>Apparel</td>\n",
       "      <td>Clicked</td>\n",
       "      <td>11/27/2019</td>\n",
       "      <td>SALE20</td>\n",
       "    </tr>\n",
       "    <tr>\n",
       "      <th>freq</th>\n",
       "      <td>33007</td>\n",
       "      <td>18380</td>\n",
       "      <td>335</td>\n",
       "      <td>3511</td>\n",
       "      <td>3511</td>\n",
       "      <td>18126</td>\n",
       "      <td>26926</td>\n",
       "      <td>335</td>\n",
       "      <td>6373</td>\n",
       "    </tr>\n",
       "  </tbody>\n",
       "</table>\n",
       "</div>"
      ],
      "text/plain": [
       "       Gender Location Transaction_Date     Product_SKU  \\\n",
       "count   52924    52924            52924           52924   \n",
       "unique      2        5              365            1145   \n",
       "top         F  Chicago       2019-11-27  GGOENEBJ079499   \n",
       "freq    33007    18380              335            3511   \n",
       "\n",
       "                                      Product_Description Product_Category  \\\n",
       "count                                               52924            52955   \n",
       "unique                                                404               21   \n",
       "top     Nest Learning Thermostat 3rd Gen-USA - Stainle...          Apparel   \n",
       "freq                                                 3511            18126   \n",
       "\n",
       "       Coupon_Status        Date Coupon_Code  \n",
       "count          52924       52924       52555  \n",
       "unique             3         365          48  \n",
       "top          Clicked  11/27/2019      SALE20  \n",
       "freq           26926         335        6373  "
      ]
     },
     "execution_count": 13,
     "metadata": {},
     "output_type": "execute_result"
    }
   ],
   "source": [
    "df.describe(exclude = np.number)"
   ]
  },
  {
   "cell_type": "markdown",
   "id": "de019bd4-69c5-40c5-bbad-ce412e628076",
   "metadata": {},
   "source": [
    "**Menghapus kolom yang tidak diperlukan**"
   ]
  },
  {
   "cell_type": "code",
   "execution_count": 14,
   "id": "0a93f20b-08dc-4a05-a5f2-eabe0391aaaa",
   "metadata": {},
   "outputs": [],
   "source": [
    "df.drop(columns = [\"Unnamed: 0\", \n",
    "                     \"CustomerID\", \n",
    "                     \"Coupon_Code\", \n",
    "                     \"Product_Description\", \n",
    "                     \"Transaction_ID\", \n",
    "                     \"Product_SKU\"], \n",
    "          inplace = True)"
   ]
  },
  {
   "cell_type": "code",
   "execution_count": 15,
   "id": "d6a1a2a6-f6e5-41bf-ac31-402893989b38",
   "metadata": {},
   "outputs": [
    {
     "data": {
      "text/plain": [
       "(52955, 15)"
      ]
     },
     "execution_count": 15,
     "metadata": {},
     "output_type": "execute_result"
    }
   ],
   "source": [
    "df.shape"
   ]
  },
  {
   "cell_type": "markdown",
   "id": "62f45aec-7215-4172-aadc-142cd33bea3c",
   "metadata": {},
   "source": [
    "**Menghapus baris yang memiliki nilai yang hilang di 5 kolom**"
   ]
  },
  {
   "cell_type": "code",
   "execution_count": 16,
   "id": "319baf4d-d704-46c6-8264-1bc72354154c",
   "metadata": {},
   "outputs": [],
   "source": [
    "df.dropna(thresh = 5, inplace = True)"
   ]
  },
  {
   "cell_type": "code",
   "execution_count": 17,
   "id": "9774d5bf-83ca-482f-b27c-f01e30890184",
   "metadata": {},
   "outputs": [
    {
     "data": {
      "text/plain": [
       "(52924, 15)"
      ]
     },
     "execution_count": 17,
     "metadata": {},
     "output_type": "execute_result"
    }
   ],
   "source": [
    "df.shape"
   ]
  },
  {
   "cell_type": "markdown",
   "id": "7e4f02e6-7223-4a27-b00d-ef5e5ddf252a",
   "metadata": {},
   "source": [
    "**Cek missing values**"
   ]
  },
  {
   "cell_type": "code",
   "execution_count": 18,
   "id": "e81979f7-4a1e-4a14-81f1-ca53f675d622",
   "metadata": {},
   "outputs": [
    {
     "data": {
      "text/plain": [
       "Gender                0\n",
       "Location              0\n",
       "Tenure_Months         0\n",
       "Transaction_Date      0\n",
       "Product_Category      0\n",
       "Quantity              0\n",
       "Avg_Price             0\n",
       "Delivery_Charges      0\n",
       "Coupon_Status         0\n",
       "GST                   0\n",
       "Date                  0\n",
       "Offline_Spend         0\n",
       "Online_Spend          0\n",
       "Month                 0\n",
       "Discount_pct        400\n",
       "dtype: int64"
      ]
     },
     "execution_count": 18,
     "metadata": {},
     "output_type": "execute_result"
    }
   ],
   "source": [
    "df.isna().sum()"
   ]
  },
  {
   "cell_type": "markdown",
   "id": "3162fc2e-5d82-45d4-8c1c-ba34972a3cfd",
   "metadata": {},
   "source": [
    "## Step 3: Feature Understanding\n",
    "Univariate Analysis dan Visualizations "
   ]
  },
  {
   "cell_type": "markdown",
   "id": "1aefdb0e-5cd9-4ce4-81be-de9bf1a9aff3",
   "metadata": {},
   "source": [
    "**Membuat fungsi untuk memvisualisasikan kolom kategori menggunakan plot**"
   ]
  },
  {
   "cell_type": "code",
   "execution_count": 19,
   "id": "8d2d3a56-8d97-4041-95b9-c5cac4665279",
   "metadata": {},
   "outputs": [],
   "source": [
    "def count_plot(x_axis = None, y_axis = None, hue = None, rotation = 0, top = 0):\n",
    "    \"\"\"\n",
    "    1) input : x_axis, nama kolom, tipe data harus object atau kategori\n",
    "    2) output : count plot menggunakan modul seaborn, nilai unik di sumbu-x dan frekuensi di sumbu-y\n",
    "    3) menggunakan bar_label untuk menampilkan frekuensi setiap nilai unik di atas masing-masing kolom pada grafik\n",
    "    4) parameter 'top' digunakan untuk menentukan jumlah nilai unik teratas yang ingin ditampilkan\n",
    "    \"\"\"\n",
    "    if x_axis: # jika kita ingin memvisualisasikan pada sumbu-x\n",
    "        order = df[x_axis].value_counts().iloc[:top].index\n",
    "    else:\n",
    "        order = df[y_axis].value_counts().iloc[:top].index\n",
    "    graph = sns.countplot(x = x_axis, \n",
    "                          y = y_axis, \n",
    "                          data = df, \n",
    "                          hue = hue, \n",
    "                          order = order, \n",
    "                          pallete = \"Rdbu\")\n",
    "    for container in graph.containers:\n",
    "        graph.bar_label(container)\n",
    "\n",
    "    plt.xticks(rotation = rotation)\n",
    "    plt.show()"
   ]
  },
  {
   "cell_type": "code",
   "execution_count": 20,
   "id": "e8c76b5d-dd93-48d2-8f2d-ee7ca71dabd4",
   "metadata": {},
   "outputs": [],
   "source": [
    "# Membuat fungsi untuk memvisualisasikan kolom kategori menggunakan pie plot\n",
    "\n",
    "def pie_plot(column_name, explodeIndex = None):\n",
    "    \"\"\"\n",
    "    1) input : nama kolom, tipe data kolom harus object atau kategori\n",
    "    2) explodeIndex : indeks yang ingin ditonjolkan (explode) pada pie chart\n",
    "    3) output : grafik lingkaran yang menunjukkan ukuran setiap nilai unik dan persentasenya\n",
    "    \"\"\"\n",
    "    # Membuat daftar explode dengan nilai nol sesuai jumlah nilai unik di kolom\n",
    "    explodeList = [0] * df[column_name].nunique()\n",
    "    \n",
    "    # Memeriksa dan mengatur nilai explodeIndex\n",
    "    if explodeIndex is not None:\n",
    "        explodeList[explodeIndex] = 0.1  # Menonjolkan bagian yang dipilih (explode)\n",
    "    \n",
    "    # Membuat pie plot\n",
    "    plt.pie(df[column_name].value_counts(), \n",
    "            labels = df[column_name].value_counts().index, \n",
    "            shadow = True, \n",
    "            autopct = \"%1.1f%%\",  # Menampilkan persentase di tiap bagian\n",
    "            explode = explodeList)  # Menonjolkan bagian yang dipilih\n",
    "    plt.show()  # Menampilkan pie chart\n"
   ]
  },
  {
   "cell_type": "code",
   "execution_count": 21,
   "id": "bb5a481b-a067-45a4-a745-c975e77161b6",
   "metadata": {},
   "outputs": [],
   "source": [
    "# Membuat fungsi untuk memvisualisasikan kolom numerik menggunakan box plot\n",
    "\n",
    "def box_plot(x_axis = None, y_axis = None):\n",
    "    \"\"\"\n",
    "    input : x_axis, y_axis (kolom data), tipe data di y_axis harus numerik\n",
    "    output : box plot untuk melihat distribusi nilai kolom seperti nilai minimum, maksimum, rata-rata, median, dan standar deviasi\n",
    "    \"\"\"\n",
    "    # Membuat box plot menggunakan seaborn\n",
    "    sns.boxplot(x = x_axis, y = y_axis, data = df)\n",
    "    \n",
    "    # Memeriksa apakah x_axis diisi, lalu mengatur label sumbu\n",
    "    if x_axis:\n",
    "        plt.ylabel(x_axis)  # Menetapkan label untuk sumbu-y dengan nama kolom di x_axis\n",
    "        plt.xlabel(\"FRQ\")  # Mengatur label sumbu-x sebagai \"FRQ\"\n",
    "    else:\n",
    "        plt.xlabel(y_axis)  # Jika x_axis tidak diisi, menetapkan label sumbu-x dengan nama kolom di y_axis\n",
    "        plt.ylabel(\"FRQ\")   # Mengatur label sumbu-y sebagai \"FRQ\"\n",
    "    \n",
    "    # Menampilkan box plot\n",
    "    plt.show()\n"
   ]
  },
  {
   "cell_type": "markdown",
   "id": "254177db-9952-43ad-ad04-4964eb13c540",
   "metadata": {},
   "source": [
    "**Discovering Gender column**"
   ]
  },
  {
   "cell_type": "code",
   "execution_count": 22,
   "id": "5fda7869-9e2f-4a1d-8c16-7ca3bebaa4af",
   "metadata": {},
   "outputs": [
    {
     "data": {
      "text/plain": [
       "array(['M', 'F'], dtype=object)"
      ]
     },
     "execution_count": 22,
     "metadata": {},
     "output_type": "execute_result"
    }
   ],
   "source": [
    "# see unique values\n",
    "\n",
    "df[\"Gender\"].unique()"
   ]
  },
  {
   "cell_type": "code",
   "execution_count": 23,
   "id": "01080c40-dacf-4a45-94e7-081b2b1a5dce",
   "metadata": {},
   "outputs": [
    {
     "data": {
      "image/png": "[encoded data removed]",
      "text/plain": [
       "<Figure size 640x480 with 1 Axes>"
      ]
     },
     "metadata": {},
     "output_type": "display_data"
    }
   ],
   "source": [
    "# visualized Gender column using pie plot function i create it in cell 15\n",
    "\n",
    "pie_plot(column_name = \"Gender\", explodeIndex = 0)"
   ]
  },
  {
   "cell_type": "markdown",
   "id": "bf6bab2a-50a1-4d6f-bf6d-268bcc2daf25",
   "metadata": {},
   "source": [
    "🛑 Most customer is female"
   ]
  },
  {
   "cell_type": "markdown",
   "id": "9673c1ff-8170-4d07-9dd9-6249f312143f",
   "metadata": {},
   "source": [
    "**Discovering Location column**\n"
   ]
  },
  {
   "cell_type": "code",
   "execution_count": 24,
   "id": "6c42108c-cf39-48f8-ba50-e99c967eeadb",
   "metadata": {},
   "outputs": [
    {
     "data": {
      "text/plain": [
       "array(['Chicago', 'California', 'New York', 'New Jersey', 'Washington DC'],\n",
       "      dtype=object)"
      ]
     },
     "execution_count": 24,
     "metadata": {},
     "output_type": "execute_result"
    }
   ],
   "source": [
    "# see unique values\n",
    "\n",
    "df[\"Location\"].unique()"
   ]
  },
  {
   "cell_type": "code",
   "execution_count": 25,
   "id": "c1931477-4e1e-4ab0-9083-c9acc37496f5",
   "metadata": {},
   "outputs": [
    {
     "data": {
      "image/png": "[encoded data removed]",
      "text/plain": [
       "<Figure size 640x480 with 1 Axes>"
      ]
     },
     "metadata": {},
     "output_type": "display_data"
    }
   ],
   "source": [
    "# visualized Location column using pie plot function i create it in cell 15\n",
    "\n",
    "pie_plot(column_name = \"Location\", explodeIndex = 0)"
   ]
  },
  {
   "cell_type": "markdown",
   "id": "26223a32-b493-4e4e-83e2-013674a84bf4",
   "metadata": {},
   "source": [
    "🛑 Most customer from Chicago"
   ]
  },
  {
   "cell_type": "markdown",
   "id": "91b301d3-0c24-4905-86d6-cc51ba9680c5",
   "metadata": {},
   "source": [
    "**Discovering Tenure_Months column**\n"
   ]
  },
  {
   "cell_type": "code",
   "execution_count": 26,
   "id": "f6a0fb9c-c8f5-4769-861d-827e07e1200c",
   "metadata": {},
   "outputs": [
    {
     "data": {
      "text/plain": [
       "array([12., 43., 33., 49., 46., 14., 25., 50., 39., 21., 30., 29., 26.,\n",
       "       41., 24., 40., 28., 15., 18., 32., 23.,  7.,  4.,  8., 27., 13.,\n",
       "       38., 22.,  6., 34., 42., 45.,  3., 16., 17., 20.,  9., 10., 19.,\n",
       "        5., 37., 31., 44., 36., 48., 47.,  2., 35., 11.])"
      ]
     },
     "execution_count": 26,
     "metadata": {},
     "output_type": "execute_result"
    }
   ],
   "source": [
    "# see unique values\n",
    "\n",
    "df[\"Tenure_Months\"].unique()"
   ]
  },
  {
   "cell_type": "code",
   "execution_count": 27,
   "id": "77c6e187-1b08-4d8a-b7d8-d2786bc32308",
   "metadata": {},
   "outputs": [
    {
     "data": {
      "image/png": "[encoded data removed]",
      "text/plain": [
       "<Figure size 640x480 with 1 Axes>"
      ]
     },
     "metadata": {},
     "output_type": "display_data"
    }
   ],
   "source": [
    "# see distribution\n",
    "\n",
    "box_plot(y_axis = \"Tenure_Months\") # call function i create it in cell 16"
   ]
  },
  {
   "cell_type": "code",
   "execution_count": 28,
   "id": "ebc8a421-71ee-405b-b461-8f6c8e09716d",
   "metadata": {},
   "outputs": [
    {
     "ename": "AttributeError",
     "evalue": "Rectangle.set() got an unexpected keyword argument 'pallete'",
     "output_type": "error",
     "traceback": [
      "\u001b[1;31m---------------------------------------------------------------------------\u001b[0m",
      "\u001b[1;31mAttributeError\u001b[0m                            Traceback (most recent call last)",
      "Cell \u001b[1;32mIn[28], line 7\u001b[0m\n\u001b[0;32m      4\u001b[0m plt\u001b[38;5;241m.\u001b[39mfigure(figsize \u001b[38;5;241m=\u001b[39m (\u001b[38;5;241m15\u001b[39m,\u001b[38;5;241m6\u001b[39m))\n\u001b[0;32m      6\u001b[0m \u001b[38;5;66;03m# see top 20 mo\u001b[39;00m\n\u001b[1;32m----> 7\u001b[0m \u001b[43mcount_plot\u001b[49m\u001b[43m(\u001b[49m\u001b[43mx_axis\u001b[49m\u001b[43m \u001b[49m\u001b[38;5;241;43m=\u001b[39;49m\u001b[43m \u001b[49m\u001b[38;5;124;43m\"\u001b[39;49m\u001b[38;5;124;43mTenure_Months\u001b[39;49m\u001b[38;5;124;43m\"\u001b[39;49m\u001b[43m,\u001b[49m\u001b[43m \u001b[49m\u001b[43mtop\u001b[49m\u001b[43m \u001b[49m\u001b[38;5;241;43m=\u001b[39;49m\u001b[43m \u001b[49m\u001b[38;5;241;43m20\u001b[39;49m\u001b[43m)\u001b[49m \n",
      "Cell \u001b[1;32mIn[19], line 12\u001b[0m, in \u001b[0;36mcount_plot\u001b[1;34m(x_axis, y_axis, hue, rotation, top)\u001b[0m\n\u001b[0;32m     10\u001b[0m \u001b[38;5;28;01melse\u001b[39;00m:\n\u001b[0;32m     11\u001b[0m     order \u001b[38;5;241m=\u001b[39m df[y_axis]\u001b[38;5;241m.\u001b[39mvalue_counts()\u001b[38;5;241m.\u001b[39miloc[:top]\u001b[38;5;241m.\u001b[39mindex\n\u001b[1;32m---> 12\u001b[0m graph \u001b[38;5;241m=\u001b[39m \u001b[43msns\u001b[49m\u001b[38;5;241;43m.\u001b[39;49m\u001b[43mcountplot\u001b[49m\u001b[43m(\u001b[49m\u001b[43mx\u001b[49m\u001b[43m \u001b[49m\u001b[38;5;241;43m=\u001b[39;49m\u001b[43m \u001b[49m\u001b[43mx_axis\u001b[49m\u001b[43m,\u001b[49m\u001b[43m \u001b[49m\n\u001b[0;32m     13\u001b[0m \u001b[43m                      \u001b[49m\u001b[43my\u001b[49m\u001b[43m \u001b[49m\u001b[38;5;241;43m=\u001b[39;49m\u001b[43m \u001b[49m\u001b[43my_axis\u001b[49m\u001b[43m,\u001b[49m\u001b[43m \u001b[49m\n\u001b[0;32m     14\u001b[0m \u001b[43m                      \u001b[49m\u001b[43mdata\u001b[49m\u001b[43m \u001b[49m\u001b[38;5;241;43m=\u001b[39;49m\u001b[43m \u001b[49m\u001b[43mdf\u001b[49m\u001b[43m,\u001b[49m\u001b[43m \u001b[49m\n\u001b[0;32m     15\u001b[0m \u001b[43m                      \u001b[49m\u001b[43mhue\u001b[49m\u001b[43m \u001b[49m\u001b[38;5;241;43m=\u001b[39;49m\u001b[43m \u001b[49m\u001b[43mhue\u001b[49m\u001b[43m,\u001b[49m\u001b[43m \u001b[49m\n\u001b[0;32m     16\u001b[0m \u001b[43m                      \u001b[49m\u001b[43morder\u001b[49m\u001b[43m \u001b[49m\u001b[38;5;241;43m=\u001b[39;49m\u001b[43m \u001b[49m\u001b[43morder\u001b[49m\u001b[43m,\u001b[49m\u001b[43m \u001b[49m\n\u001b[0;32m     17\u001b[0m \u001b[43m                      \u001b[49m\u001b[43mpallete\u001b[49m\u001b[43m \u001b[49m\u001b[38;5;241;43m=\u001b[39;49m\u001b[43m \u001b[49m\u001b[38;5;124;43m\"\u001b[39;49m\u001b[38;5;124;43mRdbu\u001b[39;49m\u001b[38;5;124;43m\"\u001b[39;49m\u001b[43m)\u001b[49m\n\u001b[0;32m     18\u001b[0m \u001b[38;5;28;01mfor\u001b[39;00m container \u001b[38;5;129;01min\u001b[39;00m graph\u001b[38;5;241m.\u001b[39mcontainers:\n\u001b[0;32m     19\u001b[0m     graph\u001b[38;5;241m.\u001b[39mbar_label(container)\n",
      "File \u001b[1;32m~\\AppData\\Local\\Programs\\Python\\Python312\\Lib\\site-packages\\seaborn\\categorical.py:2661\u001b[0m, in \u001b[0;36mcountplot\u001b[1;34m(data, x, y, hue, order, hue_order, orient, color, palette, saturation, fill, hue_norm, stat, width, dodge, gap, log_scale, native_scale, formatter, legend, ax, **kwargs)\u001b[0m\n\u001b[0;32m   2659\u001b[0m saturation \u001b[38;5;241m=\u001b[39m saturation \u001b[38;5;28;01mif\u001b[39;00m fill \u001b[38;5;28;01melse\u001b[39;00m \u001b[38;5;241m1\u001b[39m\n\u001b[0;32m   2660\u001b[0m p\u001b[38;5;241m.\u001b[39mmap_hue(palette\u001b[38;5;241m=\u001b[39mpalette, order\u001b[38;5;241m=\u001b[39mhue_order, norm\u001b[38;5;241m=\u001b[39mhue_norm, saturation\u001b[38;5;241m=\u001b[39msaturation)\n\u001b[1;32m-> 2661\u001b[0m color \u001b[38;5;241m=\u001b[39m \u001b[43m_default_color\u001b[49m\u001b[43m(\u001b[49m\u001b[43max\u001b[49m\u001b[38;5;241;43m.\u001b[39;49m\u001b[43mbar\u001b[49m\u001b[43m,\u001b[49m\u001b[43m \u001b[49m\u001b[43mhue\u001b[49m\u001b[43m,\u001b[49m\u001b[43m \u001b[49m\u001b[43mcolor\u001b[49m\u001b[43m,\u001b[49m\u001b[43m \u001b[49m\u001b[43mkwargs\u001b[49m\u001b[43m,\u001b[49m\u001b[43m \u001b[49m\u001b[43msaturation\u001b[49m\u001b[43m)\u001b[49m\n\u001b[0;32m   2663\u001b[0m count_axis \u001b[38;5;241m=\u001b[39m {\u001b[38;5;124m\"\u001b[39m\u001b[38;5;124mx\u001b[39m\u001b[38;5;124m\"\u001b[39m: \u001b[38;5;124m\"\u001b[39m\u001b[38;5;124my\u001b[39m\u001b[38;5;124m\"\u001b[39m, \u001b[38;5;124m\"\u001b[39m\u001b[38;5;124my\u001b[39m\u001b[38;5;124m\"\u001b[39m: \u001b[38;5;124m\"\u001b[39m\u001b[38;5;124mx\u001b[39m\u001b[38;5;124m\"\u001b[39m}[p\u001b[38;5;241m.\u001b[39morient]\n\u001b[0;32m   2664\u001b[0m \u001b[38;5;28;01mif\u001b[39;00m p\u001b[38;5;241m.\u001b[39minput_format \u001b[38;5;241m==\u001b[39m \u001b[38;5;124m\"\u001b[39m\u001b[38;5;124mwide\u001b[39m\u001b[38;5;124m\"\u001b[39m:\n",
      "File \u001b[1;32m~\\AppData\\Local\\Programs\\Python\\Python312\\Lib\\site-packages\\seaborn\\utils.py:127\u001b[0m, in \u001b[0;36m_default_color\u001b[1;34m(method, hue, color, kws, saturation)\u001b[0m\n\u001b[0;32m    122\u001b[0m     scout\u001b[38;5;241m.\u001b[39mremove()\n\u001b[0;32m    124\u001b[0m \u001b[38;5;28;01melif\u001b[39;00m method\u001b[38;5;241m.\u001b[39m\u001b[38;5;18m__name__\u001b[39m \u001b[38;5;241m==\u001b[39m \u001b[38;5;124m\"\u001b[39m\u001b[38;5;124mbar\u001b[39m\u001b[38;5;124m\"\u001b[39m:\n\u001b[0;32m    125\u001b[0m \n\u001b[0;32m    126\u001b[0m     \u001b[38;5;66;03m# bar() needs masked, not empty data, to generate a patch\u001b[39;00m\n\u001b[1;32m--> 127\u001b[0m     scout, \u001b[38;5;241m=\u001b[39m \u001b[43mmethod\u001b[49m\u001b[43m(\u001b[49m\u001b[43m[\u001b[49m\u001b[43mnp\u001b[49m\u001b[38;5;241;43m.\u001b[39;49m\u001b[43mnan\u001b[49m\u001b[43m]\u001b[49m\u001b[43m,\u001b[49m\u001b[43m \u001b[49m\u001b[43m[\u001b[49m\u001b[43mnp\u001b[49m\u001b[38;5;241;43m.\u001b[39;49m\u001b[43mnan\u001b[49m\u001b[43m]\u001b[49m\u001b[43m,\u001b[49m\u001b[43m \u001b[49m\u001b[38;5;241;43m*\u001b[39;49m\u001b[38;5;241;43m*\u001b[39;49m\u001b[43mkws\u001b[49m\u001b[43m)\u001b[49m\n\u001b[0;32m    128\u001b[0m     color \u001b[38;5;241m=\u001b[39m to_rgb(scout\u001b[38;5;241m.\u001b[39mget_facecolor())\n\u001b[0;32m    129\u001b[0m     scout\u001b[38;5;241m.\u001b[39mremove()\n",
      "File \u001b[1;32m~\\AppData\\Local\\Programs\\Python\\Python312\\Lib\\site-packages\\matplotlib\\__init__.py:1473\u001b[0m, in \u001b[0;36m_preprocess_data.<locals>.inner\u001b[1;34m(ax, data, *args, **kwargs)\u001b[0m\n\u001b[0;32m   1470\u001b[0m \u001b[38;5;129m@functools\u001b[39m\u001b[38;5;241m.\u001b[39mwraps(func)\n\u001b[0;32m   1471\u001b[0m \u001b[38;5;28;01mdef\u001b[39;00m \u001b[38;5;21minner\u001b[39m(ax, \u001b[38;5;241m*\u001b[39margs, data\u001b[38;5;241m=\u001b[39m\u001b[38;5;28;01mNone\u001b[39;00m, \u001b[38;5;241m*\u001b[39m\u001b[38;5;241m*\u001b[39mkwargs):\n\u001b[0;32m   1472\u001b[0m     \u001b[38;5;28;01mif\u001b[39;00m data \u001b[38;5;129;01mis\u001b[39;00m \u001b[38;5;28;01mNone\u001b[39;00m:\n\u001b[1;32m-> 1473\u001b[0m         \u001b[38;5;28;01mreturn\u001b[39;00m \u001b[43mfunc\u001b[49m\u001b[43m(\u001b[49m\n\u001b[0;32m   1474\u001b[0m \u001b[43m            \u001b[49m\u001b[43max\u001b[49m\u001b[43m,\u001b[49m\n\u001b[0;32m   1475\u001b[0m \u001b[43m            \u001b[49m\u001b[38;5;241;43m*\u001b[39;49m\u001b[38;5;28;43mmap\u001b[39;49m\u001b[43m(\u001b[49m\u001b[43msanitize_sequence\u001b[49m\u001b[43m,\u001b[49m\u001b[43m \u001b[49m\u001b[43margs\u001b[49m\u001b[43m)\u001b[49m\u001b[43m,\u001b[49m\n\u001b[0;32m   1476\u001b[0m \u001b[43m            \u001b[49m\u001b[38;5;241;43m*\u001b[39;49m\u001b[38;5;241;43m*\u001b[39;49m\u001b[43m{\u001b[49m\u001b[43mk\u001b[49m\u001b[43m:\u001b[49m\u001b[43m \u001b[49m\u001b[43msanitize_sequence\u001b[49m\u001b[43m(\u001b[49m\u001b[43mv\u001b[49m\u001b[43m)\u001b[49m\u001b[43m \u001b[49m\u001b[38;5;28;43;01mfor\u001b[39;49;00m\u001b[43m \u001b[49m\u001b[43mk\u001b[49m\u001b[43m,\u001b[49m\u001b[43m \u001b[49m\u001b[43mv\u001b[49m\u001b[43m \u001b[49m\u001b[38;5;129;43;01min\u001b[39;49;00m\u001b[43m \u001b[49m\u001b[43mkwargs\u001b[49m\u001b[38;5;241;43m.\u001b[39;49m\u001b[43mitems\u001b[49m\u001b[43m(\u001b[49m\u001b[43m)\u001b[49m\u001b[43m}\u001b[49m\u001b[43m)\u001b[49m\n\u001b[0;32m   1478\u001b[0m     bound \u001b[38;5;241m=\u001b[39m new_sig\u001b[38;5;241m.\u001b[39mbind(ax, \u001b[38;5;241m*\u001b[39margs, \u001b[38;5;241m*\u001b[39m\u001b[38;5;241m*\u001b[39mkwargs)\n\u001b[0;32m   1479\u001b[0m     auto_label \u001b[38;5;241m=\u001b[39m (bound\u001b[38;5;241m.\u001b[39marguments\u001b[38;5;241m.\u001b[39mget(label_namer)\n\u001b[0;32m   1480\u001b[0m                   \u001b[38;5;129;01mor\u001b[39;00m bound\u001b[38;5;241m.\u001b[39mkwargs\u001b[38;5;241m.\u001b[39mget(label_namer))\n",
      "File \u001b[1;32m~\\AppData\\Local\\Programs\\Python\\Python312\\Lib\\site-packages\\matplotlib\\axes\\_axes.py:2591\u001b[0m, in \u001b[0;36mAxes.bar\u001b[1;34m(self, x, height, width, bottom, align, **kwargs)\u001b[0m\n\u001b[0;32m   2582\u001b[0m \u001b[38;5;28;01mfor\u001b[39;00m l, b, w, h, c, e, lw, htch, lbl \u001b[38;5;129;01min\u001b[39;00m args:\n\u001b[0;32m   2583\u001b[0m     r \u001b[38;5;241m=\u001b[39m mpatches\u001b[38;5;241m.\u001b[39mRectangle(\n\u001b[0;32m   2584\u001b[0m         xy\u001b[38;5;241m=\u001b[39m(l, b), width\u001b[38;5;241m=\u001b[39mw, height\u001b[38;5;241m=\u001b[39mh,\n\u001b[0;32m   2585\u001b[0m         facecolor\u001b[38;5;241m=\u001b[39mc,\n\u001b[1;32m   (...)\u001b[0m\n\u001b[0;32m   2589\u001b[0m         hatch\u001b[38;5;241m=\u001b[39mhtch,\n\u001b[0;32m   2590\u001b[0m         )\n\u001b[1;32m-> 2591\u001b[0m     \u001b[43mr\u001b[49m\u001b[38;5;241;43m.\u001b[39;49m\u001b[43m_internal_update\u001b[49m\u001b[43m(\u001b[49m\u001b[43mkwargs\u001b[49m\u001b[43m)\u001b[49m\n\u001b[0;32m   2592\u001b[0m     r\u001b[38;5;241m.\u001b[39mget_path()\u001b[38;5;241m.\u001b[39m_interpolation_steps \u001b[38;5;241m=\u001b[39m \u001b[38;5;241m100\u001b[39m\n\u001b[0;32m   2593\u001b[0m     \u001b[38;5;28;01mif\u001b[39;00m orientation \u001b[38;5;241m==\u001b[39m \u001b[38;5;124m'\u001b[39m\u001b[38;5;124mvertical\u001b[39m\u001b[38;5;124m'\u001b[39m:\n",
      "File \u001b[1;32m~\\AppData\\Local\\Programs\\Python\\Python312\\Lib\\site-packages\\matplotlib\\artist.py:1216\u001b[0m, in \u001b[0;36mArtist._internal_update\u001b[1;34m(self, kwargs)\u001b[0m\n\u001b[0;32m   1209\u001b[0m \u001b[38;5;28;01mdef\u001b[39;00m \u001b[38;5;21m_internal_update\u001b[39m(\u001b[38;5;28mself\u001b[39m, kwargs):\n\u001b[0;32m   1210\u001b[0m \u001b[38;5;250m    \u001b[39m\u001b[38;5;124;03m\"\"\"\u001b[39;00m\n\u001b[0;32m   1211\u001b[0m \u001b[38;5;124;03m    Update artist properties without prenormalizing them, but generating\u001b[39;00m\n\u001b[0;32m   1212\u001b[0m \u001b[38;5;124;03m    errors as if calling `set`.\u001b[39;00m\n\u001b[0;32m   1213\u001b[0m \n\u001b[0;32m   1214\u001b[0m \u001b[38;5;124;03m    The lack of prenormalization is to maintain backcompatibility.\u001b[39;00m\n\u001b[0;32m   1215\u001b[0m \u001b[38;5;124;03m    \"\"\"\u001b[39;00m\n\u001b[1;32m-> 1216\u001b[0m     \u001b[38;5;28;01mreturn\u001b[39;00m \u001b[38;5;28;43mself\u001b[39;49m\u001b[38;5;241;43m.\u001b[39;49m\u001b[43m_update_props\u001b[49m\u001b[43m(\u001b[49m\n\u001b[0;32m   1217\u001b[0m \u001b[43m        \u001b[49m\u001b[43mkwargs\u001b[49m\u001b[43m,\u001b[49m\u001b[43m \u001b[49m\u001b[38;5;124;43m\"\u001b[39;49m\u001b[38;5;132;43;01m{cls.__name__}\u001b[39;49;00m\u001b[38;5;124;43m.set() got an unexpected keyword argument \u001b[39;49m\u001b[38;5;124;43m\"\u001b[39;49m\n\u001b[0;32m   1218\u001b[0m \u001b[43m        \u001b[49m\u001b[38;5;124;43m\"\u001b[39;49m\u001b[38;5;132;43;01m{prop_name!r}\u001b[39;49;00m\u001b[38;5;124;43m\"\u001b[39;49m\u001b[43m)\u001b[49m\n",
      "File \u001b[1;32m~\\AppData\\Local\\Programs\\Python\\Python312\\Lib\\site-packages\\matplotlib\\artist.py:1190\u001b[0m, in \u001b[0;36mArtist._update_props\u001b[1;34m(self, props, errfmt)\u001b[0m\n\u001b[0;32m   1188\u001b[0m             func \u001b[38;5;241m=\u001b[39m \u001b[38;5;28mgetattr\u001b[39m(\u001b[38;5;28mself\u001b[39m, \u001b[38;5;124mf\u001b[39m\u001b[38;5;124m\"\u001b[39m\u001b[38;5;124mset_\u001b[39m\u001b[38;5;132;01m{\u001b[39;00mk\u001b[38;5;132;01m}\u001b[39;00m\u001b[38;5;124m\"\u001b[39m, \u001b[38;5;28;01mNone\u001b[39;00m)\n\u001b[0;32m   1189\u001b[0m             \u001b[38;5;28;01mif\u001b[39;00m \u001b[38;5;129;01mnot\u001b[39;00m \u001b[38;5;28mcallable\u001b[39m(func):\n\u001b[1;32m-> 1190\u001b[0m                 \u001b[38;5;28;01mraise\u001b[39;00m \u001b[38;5;167;01mAttributeError\u001b[39;00m(\n\u001b[0;32m   1191\u001b[0m                     errfmt\u001b[38;5;241m.\u001b[39mformat(\u001b[38;5;28mcls\u001b[39m\u001b[38;5;241m=\u001b[39m\u001b[38;5;28mtype\u001b[39m(\u001b[38;5;28mself\u001b[39m), prop_name\u001b[38;5;241m=\u001b[39mk))\n\u001b[0;32m   1192\u001b[0m             ret\u001b[38;5;241m.\u001b[39mappend(func(v))\n\u001b[0;32m   1193\u001b[0m \u001b[38;5;28;01mif\u001b[39;00m ret:\n",
      "\u001b[1;31mAttributeError\u001b[0m: Rectangle.set() got an unexpected keyword argument 'pallete'"
     ]
    },
    {
     "data": {
      "image/png": "[encoded data removed]",
      "text/plain": [
       "<Figure size 1500x600 with 1 Axes>"
      ]
     },
     "metadata": {},
     "output_type": "display_data"
    }
   ],
   "source": [
    "# visualized Tenure Months column using count plot function i create it in cell 14\n",
    "\n",
    "# set figure size\n",
    "plt.figure(figsize = (15,6))\n",
    "\n",
    "# see top 20 mo\n",
    "count_plot(x_axis = \"Tenure_Months\", top = 20) "
   ]
  },
  {
   "cell_type": "code",
   "execution_count": null,
   "id": "c442b2ff-6e84-4ea1-ae22-e80b3bbe8a3e",
   "metadata": {},
   "outputs": [],
   "source": []
  },
  {
   "cell_type": "code",
   "execution_count": null,
   "id": "ee4127dc-8a3c-4b26-a717-7afe7ce7dfcd",
   "metadata": {},
   "outputs": [],
   "source": []
  },
  {
   "cell_type": "code",
   "execution_count": null,
   "id": "6d0fb2a4-9a09-4c95-8237-df0c23c0c864",
   "metadata": {},
   "outputs": [],
   "source": []
  },
  {
   "cell_type": "code",
   "execution_count": null,
   "id": "107e8ab6-9c5d-44df-8373-f65ef2f5e0c7",
   "metadata": {},
   "outputs": [],
   "source": []
  }
 ],
 "metadata": {
  "kernelspec": {
   "display_name": "Python 3 (ipykernel)",
   "language": "python",
   "name": "python3"
  },
  "language_info": {
   "codemirror_mode": {
    "name": "ipython",
    "version": 3
   },
   "file_extension": ".py",
   "mimetype": "text/x-python",
   "name": "python",
   "nbconvert_exporter": "python",
   "pygments_lexer": "ipython3",
   "version": "3.12.6"
  }
 },
 "nbformat": 4,
 "nbformat_minor": 5
}
