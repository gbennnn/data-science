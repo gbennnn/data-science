{
 "cells": [
  {
   "cell_type": "markdown",
   "id": "72f5b726-56e7-4cf9-9626-289611cbd38b",
   "metadata": {},
   "source": [
    "# Pengenalan Jupyter Notebook"
   ]
  },
  {
   "cell_type": "markdown",
   "id": "b1007dc8-777b-4ea6-aed3-28fb72a29ebb",
   "metadata": {},
   "source": [
    "<p>Ini adalah paragraf</p>"
   ]
  },
  {
   "cell_type": "markdown",
   "id": "f30380d9-1cb8-4470-9e82-9b1d1af777ad",
   "metadata": {},
   "source": [
    "## Ini adalah heading 2"
   ]
  },
  {
   "cell_type": "markdown",
   "id": "6a0f9fe9-fdd8-4504-b7e3-d457463098e5",
   "metadata": {},
   "source": [
    "<a href=\"https://www.instagram.com\">Click me</a>"
   ]
  },
  {
   "cell_type": "markdown",
   "id": "0c454210-430f-4e29-9570-609b244ce75a",
   "metadata": {},
   "source": [
    "### Shortcut"
   ]
  },
  {
   "cell_type": "markdown",
   "id": "33d40e32-c7ff-4967-80a3-3c796725483a",
   "metadata": {},
   "source": [
    "<p>\n",
    "    <b>Berikut ini adalah beberapa shortcut yang dapat digunakan: </b><br>\n",
    "    M : Untuk pindah ke mode markdown <br>\n",
    "    Y : Untuk Pindah ke mode code <br>\n",
    "    A : Untuk tambah 1 cell diatas baris saat ini <br>\n",
    "    B : Untuk tambah 1 cell dibawah baris saat ini\n",
    "    \n",
    "</p>"
   ]
  },
  {
   "cell_type": "code",
   "execution_count": null,
   "id": "21c715f4-7ce1-4044-9e9e-a3470a639e50",
   "metadata": {},
   "outputs": [],
   "source": [
    "print(\"Hello World\")"
   ]
  }
 ],
 "metadata": {
  "kernelspec": {
   "display_name": "Python 3 (ipykernel)",
   "language": "python",
   "name": "python3"
  },
  "language_info": {
   "codemirror_mode": {
    "name": "ipython",
    "version": 3
   },
   "file_extension": ".py",
   "mimetype": "text/x-python",
   "name": "python",
   "nbconvert_exporter": "python",
   "pygments_lexer": "ipython3",
   "version": "3.12.6"
  }
 },
 "nbformat": 4,
 "nbformat_minor": 5
}
